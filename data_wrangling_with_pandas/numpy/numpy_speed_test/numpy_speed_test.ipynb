{
 "cells": [
  {
   "cell_type": "markdown",
   "metadata": {},
   "source": [
    "# Python's lists vs Numpy Arrays"
   ]
  },
  {
   "cell_type": "markdown",
   "metadata": {},
   "source": [
    "## Speed Test"
   ]
  },
  {
   "cell_type": "code",
   "execution_count": 11,
   "metadata": {},
   "outputs": [],
   "source": [
    "import numpy as np"
   ]
  },
  {
   "cell_type": "code",
   "execution_count": 12,
   "metadata": {},
   "outputs": [],
   "source": [
    "SIZE = 2_000_000"
   ]
  },
  {
   "cell_type": "code",
   "execution_count": 52,
   "metadata": {},
   "outputs": [],
   "source": [
    "# Create Python's lists\n",
    "l1 = list(range(SIZE))\n",
    "l2 = list(range(SIZE))\n",
    "\n",
    "# Create Numpy Arrays\n",
    "a1=np.arange(SIZE)\n",
    "a2=np.arange(SIZE)"
   ]
  },
  {
   "cell_type": "code",
   "execution_count": 55,
   "metadata": {},
   "outputs": [],
   "source": [
    "# The point to point sum on both data structures\n",
    "def python_lists():\n",
    "  result = [(x+y) for x,y in zip(l1,l2)]\n",
    "\n",
    "def numpy_arrays():\n",
    "  result = a1 + a2"
   ]
  },
  {
   "cell_type": "code",
   "execution_count": 59,
   "metadata": {},
   "outputs": [
    {
     "name": "stdout",
     "output_type": "stream",
     "text": [
      "CPU times: user 131 ms, sys: 15.6 ms, total: 147 ms\n",
      "Wall time: 152 ms\n",
      "--------------------------------------------------\n",
      "CPU times: user 3.22 ms, sys: 0 ns, total: 3.22 ms\n",
      "Wall time: 2.7 ms\n"
     ]
    }
   ],
   "source": [
    "# time it:\n",
    "%time python_lists()\n",
    "print('-'*50)\n",
    "%time numpy_arrays()"
   ]
  }
 ],
 "metadata": {
  "kernelspec": {
   "display_name": "Python 3",
   "language": "python",
   "name": "python3"
  },
  "language_info": {
   "codemirror_mode": {
    "name": "ipython",
    "version": 3
   },
   "file_extension": ".py",
   "mimetype": "text/x-python",
   "name": "python",
   "nbconvert_exporter": "python",
   "pygments_lexer": "ipython3",
   "version": "3.7.0"
  }
 },
 "nbformat": 4,
 "nbformat_minor": 2
}
