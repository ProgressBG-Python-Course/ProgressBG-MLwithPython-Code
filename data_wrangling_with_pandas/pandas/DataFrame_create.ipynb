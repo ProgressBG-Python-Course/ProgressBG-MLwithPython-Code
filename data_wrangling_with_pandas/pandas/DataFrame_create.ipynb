{
 "cells": [
  {
   "cell_type": "markdown",
   "metadata": {},
   "source": [
    "## Create DataFrame"
   ]
  },
  {
   "cell_type": "code",
   "execution_count": null,
   "metadata": {},
   "outputs": [],
   "source": [
    "import numpy as np\n",
    "import pandas as pd"
   ]
  },
  {
   "cell_type": "markdown",
   "metadata": {},
   "source": [
    "### From list"
   ]
  },
  {
   "cell_type": "code",
   "execution_count": null,
   "metadata": {},
   "outputs": [],
   "source": [
    "# from one dimensional list\n",
    "df = pd.DataFrame([10,20,30],columns=['col1'])"
   ]
  },
  {
   "cell_type": "code",
   "execution_count": null,
   "metadata": {},
   "outputs": [],
   "source": [
    "# from multi dimensional list\n",
    "df = pd.DataFrame([\n",
    "    [10,20,30],\n",
    "    [4,7,9]\n",
    "], columns=['col1', 'col2', 'col3'])\n",
    "\n",
    "df"
   ]
  },
  {
   "cell_type": "markdown",
   "metadata": {},
   "source": [
    "### from  numpy arrays"
   ]
  },
  {
   "cell_type": "code",
   "execution_count": null,
   "metadata": {},
   "outputs": [],
   "source": [
    "# from multi dimensional nddarray\n",
    "ndarr = np.arange(1,7).reshape(3,2)\n",
    "print(ndarr)\n",
    "\n",
    "df = pd.DataFrame(ndarr, index=['row1','row2','row3'],columns=['col1', 'col2'])\n",
    "df"
   ]
  },
  {
   "cell_type": "markdown",
   "metadata": {},
   "source": [
    "### from Python Dictionary"
   ]
  },
  {
   "cell_type": "code",
   "execution_count": null,
   "metadata": {},
   "outputs": [],
   "source": [
    "# from a dictionary of equally shaped arrays\n",
    "# keys will be the columns names\n",
    "# array values will be the data.\n",
    "\n",
    "prices_dict = {\n",
    "    \"fruits\": [\"apples\", \"oranges\", \"bananas\", \"strawberries\"],\n",
    "    \"prices\": [1.5, 2, 2.5, 3],\n",
    "    \"suppliers\": [\"supplier1\", \"supplier2\", \"supplier4\", \"supplier3\"],    \n",
    "}\n",
    "\n",
    "prices_df = pd.DataFrame(prices_dict, index = [1,2,3,4])\n",
    "prices_df"
   ]
  },
  {
   "cell_type": "code",
   "execution_count": null,
   "metadata": {},
   "outputs": [],
   "source": []
  }
 ],
 "metadata": {
  "jupytext": {},
  "kernelspec": {
   "display_name": "Python 3",
   "language": "python",
   "name": "python3"
  },
  "language_info": {
   "codemirror_mode": {
    "name": "ipython",
    "version": 3
   },
   "file_extension": ".py",
   "mimetype": "text/x-python",
   "name": "python",
   "nbconvert_exporter": "python",
   "pygments_lexer": "ipython3",
   "version": "3.7.0"
  },
  "toc": {
   "base_numbering": 1,
   "nav_menu": {},
   "number_sections": true,
   "sideBar": true,
   "skip_h1_title": true,
   "title_cell": "Table of Contents",
   "title_sidebar": "Content",
   "toc_cell": false,
   "toc_position": {},
   "toc_section_display": true,
   "toc_window_display": true
  }
 },
 "nbformat": 4,
 "nbformat_minor": 2
}
