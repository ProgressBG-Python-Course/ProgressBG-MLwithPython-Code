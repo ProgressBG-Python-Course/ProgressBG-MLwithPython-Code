{
 "cells": [
  {
   "cell_type": "markdown",
   "metadata": {},
   "source": [
    "Cancer Classifier Demo"
   ]
  },
  {
   "cell_type": "markdown",
   "metadata": {},
   "source": [
    "## The problem"
   ]
  },
  {
   "cell_type": "markdown",
   "metadata": {},
   "source": [
    "<dt>Let have a cancer test that can classify cancer and non-cancer patients.</dt>\n",
    "<dt>The test is 99% <a href=\"https://en.wikipedia.org/wiki/Sensitivity_and_specificity\">sensitive</a> and 99% <a href=\"sensitive\"> specific</a>. I.e. the test will correctly identify a cancer (True Positive) 99% of the time, and will correctly identify a non-cancer (True Negative) 99% of the time.</dt>\n",
    "\n",
    "<dt><b>Question</b>: What is the probability that, given a positive cancer test, a person is actually having a cancer?</dt>"
   ]
  },
  {
   "cell_type": "markdown",
   "metadata": {},
   "source": [
    "## Solution - using the Bayes' Theorem"
   ]
  },
  {
   "cell_type": "markdown",
   "metadata": {},
   "source": [
    "$ P(C|+) = {\\frac {P(+|C) * P(C)}{P(+)}} $\n",
    "\n",
    "P(C) - the prior probability of a person to have a cancer. Imagine, we have statistical data, that P(C) = 0,005 (i.e. 0.5% of people have cancer)\n",
    "\n",
    "P(+) - the probability of a positive test, regardless of other information.\n",
    "\n",
    "    P(+) =  the probability that a true positive result will appear (= 0.99 * 0.005) plus the probability that a false positive will appear (= 0.01 * 0.995). \n",
    "    \n",
    "    P(+) = (0.99 * 0.005) + (0.01 * 0.995) = 0.0149\n",
    "\n",
    "\n",
    "\n",
    "P(+|C) - the probability that a test is positive, given that the person is having cancer.\n",
    "\n",
    "    P(+|C) = 0.99 (the test is 99% sensitive)\n",
    "    \n",
    "    \n",
    "P(C|+) - the probability that a person have cancer, given a positive test\n",
    "\n",
    "\n",
    "P(C|+) = (0.99 * 0.005) / 0.0149 = 0,3322\n",
    "\n",
    "<b>Answer</b>: the probability of a person to have a cancer, given that a cancer test is positive, is 33.22%"
   ]
  },
  {
   "cell_type": "code",
   "execution_count": null,
   "metadata": {},
   "outputs": [],
   "source": []
  }
 ],
 "metadata": {
  "kernelspec": {
   "display_name": "Python 3",
   "language": "python",
   "name": "python3"
  },
  "language_info": {
   "codemirror_mode": {
    "name": "ipython",
    "version": 3
   },
   "file_extension": ".py",
   "mimetype": "text/x-python",
   "name": "python",
   "nbconvert_exporter": "python",
   "pygments_lexer": "ipython3",
   "version": "3.7.4"
  }
 },
 "nbformat": 4,
 "nbformat_minor": 4
}
