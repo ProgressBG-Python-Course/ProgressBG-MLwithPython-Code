{
 "cells": [
  {
   "cell_type": "code",
   "execution_count": 1,
   "metadata": {},
   "outputs": [],
   "source": [
    "import warnings\n",
    "warnings.filterwarnings(\"ignore\")\n",
    "\n",
    "import numpy as np\n",
    "import pandas as pd\n",
    "import matplotlib.pyplot as plt\n",
    "import seaborn as sns\n",
    "\n",
    "\n",
    "from sklearn.metrics import confusion_matrix\n",
    "from sklearn import metrics\n"
   ]
  },
  {
   "cell_type": "code",
   "execution_count": null,
   "metadata": {},
   "outputs": [],
   "source": []
  },
  {
   "cell_type": "markdown",
   "metadata": {},
   "source": [
    "# Confusion Matrix - simple demo"
   ]
  },
  {
   "cell_type": "markdown",
   "metadata": {},
   "source": [
    "## Notes"
   ]
  },
  {
   "cell_type": "raw",
   "metadata": {},
   "source": [
    "y_true = np.array([1, 1, 1, 0, 0, 0, 0, 0, 0, 0])\n",
    "y_pred = np.array([1, 0, 0, 1, 1, 1, 0, 0, 0, 0])\n",
    "\n",
    "CM = [\n",
    "        [ 4 3 ]\n",
    "        [ 2 1 ]\n",
    "     ]\n",
    "\n",
    "CM = [\n",
    "        [ TN FP ] -> truth negative\n",
    "        [ FN TP ] -> truth positive\n",
    "     ]\n",
    "\n",
    "Rows: Ground truth\n",
    "    0 - negative\n",
    "    1 - positive\n",
    "Cols: Predicted\n",
    "    0 - negative\n",
    "    1 - positive"
   ]
  },
  {
   "cell_type": "markdown",
   "metadata": {},
   "source": [
    "## Helper Functions"
   ]
  },
  {
   "cell_type": "markdown",
   "metadata": {},
   "source": [
    "### `show_CM_as_heatmap(cm)`\n",
    "\n",
    "Prints a CM using the Seaborn heatmap"
   ]
  },
  {
   "cell_type": "code",
   "execution_count": 2,
   "metadata": {},
   "outputs": [],
   "source": [
    "def show_CM_as_heatmap(cm):\n",
    "    # print with seaborn - needs df:\n",
    "    df_cm = pd.DataFrame(cm, index = class_values, columns=class_values)\n",
    "    # print_confusion_matrix_seaborn(cm, class_names, figsize = (10,7), fontsize=14)\n",
    "\n",
    "    sns.set(font_scale=1)#for label size\n",
    "    sns.heatmap(df_cm, annot=True, annot_kws={\"size\": 16})# font size\n",
    "\n",
    "    plt.show()\n"
   ]
  },
  {
   "cell_type": "markdown",
   "metadata": {},
   "source": [
    "### Calculate Presision\n",
    "#### `calc_precision(tp, y_pred)`\n",
    "\n",
    "**Precision**: the fraction of relevant instances (TP) among the retrieved instances (TP+FP)\n",
    "\n",
    "TP+FP = all positive classes, predicted my the model\n",
    "\n",
    "**PR = TP / TP+FP**"
   ]
  },
  {
   "cell_type": "code",
   "execution_count": 5,
   "metadata": {},
   "outputs": [],
   "source": [
    "def calc_precision(tp, y_pred):\n",
    "    ''' Precision: the fraction of relevant instances (TP) among the retrieved instances (TP+FP)\n",
    "\n",
    "        TP+FP = all positive classes, predicted my the model\n",
    "     '''\n",
    "    return tp / tp+fp\n"
   ]
  },
  {
   "cell_type": "markdown",
   "metadata": {},
   "source": [
    "### Calculate Recall\n",
    "#### `calc_recall(tp, y_pred)`\n",
    "\n",
    "**Recall**: the fraction of the total amount of relevant instances that were actually retrieved\n",
    "\n",
    "TP + FN = All positive instances, as of ground truth.\n",
    "\n",
    "**PR = TP / TP+FN**"
   ]
  },
  {
   "cell_type": "code",
   "execution_count": 6,
   "metadata": {},
   "outputs": [],
   "source": [
    "def calc_recall(tp, y_pred):\n",
    "    ''' Recall:  the fraction of the total amount of relevant instances that were actually retrieved\n",
    "\n",
    "        TP + FN = All positive instances, as of ground truth.\n",
    "    '''\n",
    "    return tp / tp+fn"
   ]
  },
  {
   "cell_type": "markdown",
   "metadata": {},
   "source": [
    "### Calulate Confusion Matrix\n",
    "\n",
    "#### `calc_CM_params(y_true, y_pred)`\n",
    "\n",
    "Meaning:\n",
    "\n",
    "- True  Positives (TP): classifier correctly predicted the positive (value=1) class\n",
    "- False Positives (FP): classifier incorrectly predicted 1 (the ground truth was 0)\n",
    "- True  Negative  (TN): classifier correctly predicted the negative (value=0) class\n",
    "- False Negative  (FN): classifier incorrectly predicted 0 (the ground truth was 1)\n"
   ]
  },
  {
   "cell_type": "code",
   "execution_count": 6,
   "metadata": {},
   "outputs": [],
   "source": [
    "def calc_CM_params(y_true, y_pred):\n",
    "    ''' Meaning:\n",
    "\n",
    "        True  Positives (TP): classifier correctly predicted the positive (value=1) class\n",
    "        False Positives (FP): classifier incorrectly predicted 1 (the ground truth was 0)\n",
    "        True  Negative  (TN): classifier correctly predicted the negative (value=0) class\n",
    "        False Negative  (FN): classifier incorrectly predicted 0 (the ground truth was 1)\n",
    "\n",
    "    '''\n",
    "    tp = ( (y_true==1) & (y_pred==1) ).sum()\n",
    "    tn = ( (y_true==0) & (y_pred==0) ).sum()\n",
    "    fp = ( (y_true==0) & (y_pred==1) ).sum()\n",
    "    fn = ( (y_true==1) & (y_pred==0) ).sum()\n",
    "\n",
    "    return {\n",
    "        'TN': tn,\n",
    "        'FP': fp,\n",
    "        'FN': fn,\n",
    "        'TP': tp,\n",
    "    }\n"
   ]
  },
  {
   "cell_type": "code",
   "execution_count": 8,
   "metadata": {},
   "outputs": [],
   "source": [
    "def print_CM(y_true, y_pred):\n",
    "    params = calc_CM_params(y_true, y_pred)\n",
    "    \n",
    "    for k, v in params.items():\n",
    "        print(f\"{k}: {v}\")\n",
    "\n",
    "    # print(f\"CM: \\n{cm}\")\n",
    "    # print(f\"C_00 - TN\")\n",
    "    # print(f\"C_10 - FN\")\n",
    "    # print(f\"C_11 - TP\")\n",
    "    # print(f\"C_01 - FP\")\n",
    "    \n",
    "#     print(f\"CM: \\n{cm}\")\n"
   ]
  },
  {
   "cell_type": "code",
   "execution_count": 10,
   "metadata": {},
   "outputs": [
    {
     "name": "stdout",
     "output_type": "stream",
     "text": [
      "TN: 4\n",
      "FP: 3\n",
      "FN: 2\n",
      "TP: 1\n",
      "CM: \n",
      "[[4 3]\n",
      " [2 1]]\n"
     ]
    }
   ],
   "source": [
    "# imagine, we've train a classifier to clasify documents as :\n",
    "# relevant      - the positive class (value 1)\n",
    "# irrelevant    - the negative class (value 0)\n",
    "\n",
    "class_names = ['irrelevant', 'relevant']\n",
    "class_values = [0, 1]\n",
    "\n",
    "# the ground truth:  3 - positive, 7 - negative:\n",
    "# the predicted:     4 - positive, 6 - negative\n",
    "y_true = np.array([1, 1, 1, 0, 0, 0, 0, 0, 0, 0])\n",
    "y_pred = np.array([1, 0, 0, 1, 1, 1, 0, 0, 0, 0])\n",
    "\n",
    "# calc CM:\n",
    "cm = confusion_matrix(y_true, y_pred)\n",
    "\n",
    "# print Confusion Matrix:\n",
    "print_CM(cm)\n",
    "\n",
    "show_CM_as_heatmap(cm)"
   ]
  },
  {
   "cell_type": "code",
   "execution_count": null,
   "metadata": {},
   "outputs": [],
   "source": []
  }
 ],
 "metadata": {
  "file_extension": ".py",
  "kernelspec": {
   "display_name": "'Python Interactive'",
   "language": "python",
   "name": "247396b1-a1bc-48f5-8883-068ed0cd874b"
  },
  "language_info": {
   "codemirror_mode": {
    "name": "ipython",
    "version": 3
   },
   "file_extension": ".py",
   "mimetype": "text/x-python",
   "name": "python",
   "nbconvert_exporter": "python",
   "pygments_lexer": "ipython3",
   "version": "3.7.4"
  },
  "mimetype": "text/x-python",
  "name": "python",
  "npconvert_exporter": "python",
  "pygments_lexer": "ipython3",
  "version": 3
 },
 "nbformat": 4,
 "nbformat_minor": 4
}
