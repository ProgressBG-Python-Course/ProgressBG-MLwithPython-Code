{
 "cells": [
  {
   "cell_type": "code",
<<<<<<< HEAD
   "execution_count": 1,
=======
   "execution_count": 117,
>>>>>>> naive_bayes_classifiers_B
   "metadata": {},
   "outputs": [],
   "source": [
    "import numpy as np\n",
    "import pandas as pd\n",
    "\n",
    "from sklearn import datasets\n",
    "from sklearn.model_selection import train_test_split\n",
    "\n",
    "import matplotlib.pyplot as plt\n",
    "import seaborn as sns\n",
    "\n",
    "import warnings\n",
    "warnings.filterwarnings('ignore')"
   ]
  },
  {
   "cell_type": "markdown",
   "metadata": {},
   "source": [
    "## Define the problem"
   ]
  },
  {
   "cell_type": "markdown",
   "metadata": {},
   "source": [
    "**Given**: dataset with various information about the Titanic passengers (age, sex, socio-economic status, cabin,...) \n",
    "\n",
    "**Goal**: analysis of what sorts of people were likely to survive.\n",
    "    "
   ]
  },
  {
   "cell_type": "markdown",
   "metadata": {},
   "source": [
    "## Prepare the data (Data Preprocessing)"
   ]
  },
  {
   "cell_type": "markdown",
   "metadata": {},
   "source": [
    "### Load the data"
   ]
  },
  {
   "cell_type": "markdown",
   "metadata": {},
   "source": [
    "We'll use the datasets provided by kaggle:[titanic/data](https://www.kaggle.com/c/titanic/data).\n",
    "\n",
    "You can downloaded from here: [Titanic - all.zip](../datasets/Titanic/all.zip)"
   ]
  },
  {
   "cell_type": "code",
<<<<<<< HEAD
   "execution_count": 2,
   "metadata": {},
   "outputs": [],
   "source": [
    "df_train = pd.read_csv(\"../datasets/Titanic/train.csv\", index_col='PassengerId')\n",
    "df_test = pd.read_csv(\"../datasets/Titanic/test.csv\", index_col='PassengerId')"
   ]
  },
  {
   "cell_type": "markdown",
   "metadata": {},
   "source": [
    "### Data variable descriptions:\n",
    "<pre>\n",
    "survival        Survival\n",
    "                (0 = No; 1 = Yes)\n",
    "pclass          Passenger Class\n",
    "                (1 = 1st; 2 = 2nd; 3 = 3rd)\n",
    "name            Name\n",
    "sex             Sex\n",
    "age             Age\n",
    "sibsp           Number of Siblings/Spouses Aboard\n",
    "parch           Number of Parents/Children Aboard\n",
    "ticket          Ticket Number\n",
    "fare            Passenger Fare\n",
    "cabin           Cabin\n",
    "embarked        Port of Embarkation\n",
    "                (C = Cherbourg; Q = Queenstown; S = Southampton)\n",
    "\n",
    "SPECIAL NOTES:\n",
    "Pclass is a proxy for socio-economic status (SES)\n",
    " 1st ~ Upper; 2nd ~ Middle; 3rd ~ Lower\n",
    "\n",
    "Age is in Years; Fractional if Age less than One (1)\n",
    " If the Age is Estimated, it is in the form xx.5\n",
    "</pre>"
=======
   "execution_count": 118,
   "metadata": {},
   "outputs": [],
   "source": [
    "df_train = pd.read_csv(\"./datasets/Titanic/train.csv\")\n",
    "df_test = pd.read_csv(\"./datasets/Titanic/test.csv\")"
>>>>>>> naive_bayes_classifiers_B
   ]
  },
  {
   "cell_type": "markdown",
   "metadata": {},
   "source": [
    "### Get insight of the data (Prepare and clean)"
   ]
  },
  {
   "cell_type": "code",
<<<<<<< HEAD
   "execution_count": 39,
=======
   "execution_count": 119,
>>>>>>> naive_bayes_classifiers_B
   "metadata": {},
   "outputs": [
    {
     "data": {
      "text/html": [
       "<div>\n",
       "<style scoped>\n",
       "    .dataframe tbody tr th:only-of-type {\n",
       "        vertical-align: middle;\n",
       "    }\n",
       "\n",
       "    .dataframe tbody tr th {\n",
       "        vertical-align: top;\n",
       "    }\n",
       "\n",
       "    .dataframe thead th {\n",
       "        text-align: right;\n",
       "    }\n",
       "</style>\n",
       "<table border=\"1\" class=\"dataframe\">\n",
       "  <thead>\n",
       "    <tr style=\"text-align: right;\">\n",
       "      <th></th>\n",
<<<<<<< HEAD
       "      <th>Survived</th>\n",
       "      <th>Pclass</th>\n",
=======
       "      <th>PassengerId</th>\n",
       "      <th>Survived</th>\n",
       "      <th>Pclass</th>\n",
       "      <th>Name</th>\n",
>>>>>>> naive_bayes_classifiers_B
       "      <th>Sex</th>\n",
       "      <th>Age</th>\n",
       "      <th>SibSp</th>\n",
       "      <th>Parch</th>\n",
<<<<<<< HEAD
       "      <th>Fare</th>\n",
       "      <th>Embarked</th>\n",
       "    </tr>\n",
       "    <tr>\n",
       "      <th>PassengerId</th>\n",
       "      <th></th>\n",
       "      <th></th>\n",
       "      <th></th>\n",
       "      <th></th>\n",
       "      <th></th>\n",
       "      <th></th>\n",
       "      <th></th>\n",
       "      <th></th>\n",
       "    </tr>\n",
       "  </thead>\n",
       "  <tbody>\n",
       "    <tr>\n",
       "      <th>1</th>\n",
       "      <td>0</td>\n",
       "      <td>3</td>\n",
       "      <td>1</td>\n",
       "      <td>22.0</td>\n",
       "      <td>1</td>\n",
       "      <td>0</td>\n",
       "      <td>7.2500</td>\n",
       "      <td>2</td>\n",
       "    </tr>\n",
       "    <tr>\n",
       "      <th>2</th>\n",
       "      <td>1</td>\n",
       "      <td>1</td>\n",
       "      <td>0</td>\n",
       "      <td>38.0</td>\n",
       "      <td>1</td>\n",
       "      <td>0</td>\n",
       "      <td>71.2833</td>\n",
       "      <td>0</td>\n",
       "    </tr>\n",
       "    <tr>\n",
       "      <th>3</th>\n",
       "      <td>1</td>\n",
       "      <td>3</td>\n",
       "      <td>0</td>\n",
       "      <td>26.0</td>\n",
       "      <td>0</td>\n",
       "      <td>0</td>\n",
       "      <td>7.9250</td>\n",
       "      <td>2</td>\n",
       "    </tr>\n",
       "    <tr>\n",
       "      <th>4</th>\n",
       "      <td>1</td>\n",
       "      <td>1</td>\n",
       "      <td>0</td>\n",
       "      <td>35.0</td>\n",
       "      <td>1</td>\n",
       "      <td>0</td>\n",
       "      <td>53.1000</td>\n",
       "      <td>2</td>\n",
       "    </tr>\n",
       "    <tr>\n",
       "      <th>5</th>\n",
       "      <td>0</td>\n",
       "      <td>3</td>\n",
       "      <td>1</td>\n",
       "      <td>35.0</td>\n",
       "      <td>0</td>\n",
       "      <td>0</td>\n",
       "      <td>8.0500</td>\n",
       "      <td>2</td>\n",
=======
       "      <th>Ticket</th>\n",
       "      <th>Fare</th>\n",
       "      <th>Cabin</th>\n",
       "      <th>Embarked</th>\n",
       "    </tr>\n",
       "  </thead>\n",
       "  <tbody>\n",
       "    <tr>\n",
       "      <th>0</th>\n",
       "      <td>1</td>\n",
       "      <td>0</td>\n",
       "      <td>3</td>\n",
       "      <td>Braund, Mr. Owen Harris</td>\n",
       "      <td>male</td>\n",
       "      <td>22.0</td>\n",
       "      <td>1</td>\n",
       "      <td>0</td>\n",
       "      <td>A/5 21171</td>\n",
       "      <td>7.2500</td>\n",
       "      <td>NaN</td>\n",
       "      <td>S</td>\n",
       "    </tr>\n",
       "    <tr>\n",
       "      <th>1</th>\n",
       "      <td>2</td>\n",
       "      <td>1</td>\n",
       "      <td>1</td>\n",
       "      <td>Cumings, Mrs. John Bradley (Florence Briggs Th...</td>\n",
       "      <td>female</td>\n",
       "      <td>38.0</td>\n",
       "      <td>1</td>\n",
       "      <td>0</td>\n",
       "      <td>PC 17599</td>\n",
       "      <td>71.2833</td>\n",
       "      <td>C85</td>\n",
       "      <td>C</td>\n",
       "    </tr>\n",
       "    <tr>\n",
       "      <th>2</th>\n",
       "      <td>3</td>\n",
       "      <td>1</td>\n",
       "      <td>3</td>\n",
       "      <td>Heikkinen, Miss. Laina</td>\n",
       "      <td>female</td>\n",
       "      <td>26.0</td>\n",
       "      <td>0</td>\n",
       "      <td>0</td>\n",
       "      <td>STON/O2. 3101282</td>\n",
       "      <td>7.9250</td>\n",
       "      <td>NaN</td>\n",
       "      <td>S</td>\n",
       "    </tr>\n",
       "    <tr>\n",
       "      <th>3</th>\n",
       "      <td>4</td>\n",
       "      <td>1</td>\n",
       "      <td>1</td>\n",
       "      <td>Futrelle, Mrs. Jacques Heath (Lily May Peel)</td>\n",
       "      <td>female</td>\n",
       "      <td>35.0</td>\n",
       "      <td>1</td>\n",
       "      <td>0</td>\n",
       "      <td>113803</td>\n",
       "      <td>53.1000</td>\n",
       "      <td>C123</td>\n",
       "      <td>S</td>\n",
       "    </tr>\n",
       "    <tr>\n",
       "      <th>4</th>\n",
       "      <td>5</td>\n",
       "      <td>0</td>\n",
       "      <td>3</td>\n",
       "      <td>Allen, Mr. William Henry</td>\n",
       "      <td>male</td>\n",
       "      <td>35.0</td>\n",
       "      <td>0</td>\n",
       "      <td>0</td>\n",
       "      <td>373450</td>\n",
       "      <td>8.0500</td>\n",
       "      <td>NaN</td>\n",
       "      <td>S</td>\n",
>>>>>>> naive_bayes_classifiers_B
       "    </tr>\n",
       "  </tbody>\n",
       "</table>\n",
       "</div>"
      ],
      "text/plain": [
<<<<<<< HEAD
       "             Survived  Pclass  Sex   Age  SibSp  Parch     Fare  Embarked\n",
       "PassengerId                                                              \n",
       "1                   0       3    1  22.0      1      0   7.2500         2\n",
       "2                   1       1    0  38.0      1      0  71.2833         0\n",
       "3                   1       3    0  26.0      0      0   7.9250         2\n",
       "4                   1       1    0  35.0      1      0  53.1000         2\n",
       "5                   0       3    1  35.0      0      0   8.0500         2"
      ]
     },
     "execution_count": 39,
=======
       "   PassengerId  Survived  Pclass  \\\n",
       "0            1         0       3   \n",
       "1            2         1       1   \n",
       "2            3         1       3   \n",
       "3            4         1       1   \n",
       "4            5         0       3   \n",
       "\n",
       "                                                Name     Sex   Age  SibSp  \\\n",
       "0                            Braund, Mr. Owen Harris    male  22.0      1   \n",
       "1  Cumings, Mrs. John Bradley (Florence Briggs Th...  female  38.0      1   \n",
       "2                             Heikkinen, Miss. Laina  female  26.0      0   \n",
       "3       Futrelle, Mrs. Jacques Heath (Lily May Peel)  female  35.0      1   \n",
       "4                           Allen, Mr. William Henry    male  35.0      0   \n",
       "\n",
       "   Parch            Ticket     Fare Cabin Embarked  \n",
       "0      0         A/5 21171   7.2500   NaN        S  \n",
       "1      0          PC 17599  71.2833   C85        C  \n",
       "2      0  STON/O2. 3101282   7.9250   NaN        S  \n",
       "3      0            113803  53.1000  C123        S  \n",
       "4      0            373450   8.0500   NaN        S  "
      ]
     },
     "execution_count": 119,
>>>>>>> naive_bayes_classifiers_B
     "metadata": {},
     "output_type": "execute_result"
    }
   ],
   "source": [
<<<<<<< HEAD
    "df_train.head()\n",
    "# df_test.head()"
=======
    "df_train.head(5)"
>>>>>>> naive_bayes_classifiers_B
   ]
  },
  {
   "cell_type": "code",
<<<<<<< HEAD
   "execution_count": 4,
=======
   "execution_count": 120,
>>>>>>> naive_bayes_classifiers_B
   "metadata": {},
   "outputs": [
    {
     "data": {
      "text/html": [
       "<div>\n",
       "<style scoped>\n",
       "    .dataframe tbody tr th:only-of-type {\n",
       "        vertical-align: middle;\n",
       "    }\n",
       "\n",
       "    .dataframe tbody tr th {\n",
       "        vertical-align: top;\n",
       "    }\n",
       "\n",
       "    .dataframe thead th {\n",
       "        text-align: right;\n",
       "    }\n",
       "</style>\n",
       "<table border=\"1\" class=\"dataframe\">\n",
       "  <thead>\n",
       "    <tr style=\"text-align: right;\">\n",
       "      <th></th>\n",
<<<<<<< HEAD
=======
       "      <th>PassengerId</th>\n",
>>>>>>> naive_bayes_classifiers_B
       "      <th>Pclass</th>\n",
       "      <th>Name</th>\n",
       "      <th>Sex</th>\n",
       "      <th>Age</th>\n",
       "      <th>SibSp</th>\n",
       "      <th>Parch</th>\n",
       "      <th>Ticket</th>\n",
       "      <th>Fare</th>\n",
       "      <th>Cabin</th>\n",
       "      <th>Embarked</th>\n",
       "    </tr>\n",
<<<<<<< HEAD
       "    <tr>\n",
       "      <th>PassengerId</th>\n",
       "      <th></th>\n",
       "      <th></th>\n",
       "      <th></th>\n",
       "      <th></th>\n",
       "      <th></th>\n",
       "      <th></th>\n",
       "      <th></th>\n",
       "      <th></th>\n",
       "      <th></th>\n",
       "      <th></th>\n",
       "    </tr>\n",
       "  </thead>\n",
       "  <tbody>\n",
       "    <tr>\n",
       "      <th>892</th>\n",
=======
       "  </thead>\n",
       "  <tbody>\n",
       "    <tr>\n",
       "      <th>0</th>\n",
       "      <td>892</td>\n",
>>>>>>> naive_bayes_classifiers_B
       "      <td>3</td>\n",
       "      <td>Kelly, Mr. James</td>\n",
       "      <td>male</td>\n",
       "      <td>34.5</td>\n",
       "      <td>0</td>\n",
       "      <td>0</td>\n",
       "      <td>330911</td>\n",
       "      <td>7.8292</td>\n",
       "      <td>NaN</td>\n",
       "      <td>Q</td>\n",
       "    </tr>\n",
       "    <tr>\n",
<<<<<<< HEAD
       "      <th>893</th>\n",
=======
       "      <th>1</th>\n",
       "      <td>893</td>\n",
>>>>>>> naive_bayes_classifiers_B
       "      <td>3</td>\n",
       "      <td>Wilkes, Mrs. James (Ellen Needs)</td>\n",
       "      <td>female</td>\n",
       "      <td>47.0</td>\n",
       "      <td>1</td>\n",
       "      <td>0</td>\n",
       "      <td>363272</td>\n",
       "      <td>7.0000</td>\n",
       "      <td>NaN</td>\n",
       "      <td>S</td>\n",
       "    </tr>\n",
       "    <tr>\n",
<<<<<<< HEAD
       "      <th>894</th>\n",
=======
       "      <th>2</th>\n",
       "      <td>894</td>\n",
>>>>>>> naive_bayes_classifiers_B
       "      <td>2</td>\n",
       "      <td>Myles, Mr. Thomas Francis</td>\n",
       "      <td>male</td>\n",
       "      <td>62.0</td>\n",
       "      <td>0</td>\n",
       "      <td>0</td>\n",
       "      <td>240276</td>\n",
       "      <td>9.6875</td>\n",
       "      <td>NaN</td>\n",
       "      <td>Q</td>\n",
       "    </tr>\n",
       "    <tr>\n",
<<<<<<< HEAD
       "      <th>895</th>\n",
=======
       "      <th>3</th>\n",
       "      <td>895</td>\n",
>>>>>>> naive_bayes_classifiers_B
       "      <td>3</td>\n",
       "      <td>Wirz, Mr. Albert</td>\n",
       "      <td>male</td>\n",
       "      <td>27.0</td>\n",
       "      <td>0</td>\n",
       "      <td>0</td>\n",
       "      <td>315154</td>\n",
       "      <td>8.6625</td>\n",
       "      <td>NaN</td>\n",
       "      <td>S</td>\n",
       "    </tr>\n",
       "    <tr>\n",
<<<<<<< HEAD
       "      <th>896</th>\n",
=======
       "      <th>4</th>\n",
       "      <td>896</td>\n",
>>>>>>> naive_bayes_classifiers_B
       "      <td>3</td>\n",
       "      <td>Hirvonen, Mrs. Alexander (Helga E Lindqvist)</td>\n",
       "      <td>female</td>\n",
       "      <td>22.0</td>\n",
       "      <td>1</td>\n",
       "      <td>1</td>\n",
       "      <td>3101298</td>\n",
       "      <td>12.2875</td>\n",
       "      <td>NaN</td>\n",
       "      <td>S</td>\n",
       "    </tr>\n",
       "  </tbody>\n",
       "</table>\n",
       "</div>"
      ],
      "text/plain": [
<<<<<<< HEAD
       "             Pclass                                          Name     Sex  \\\n",
       "PassengerId                                                                 \n",
       "892               3                              Kelly, Mr. James    male   \n",
       "893               3              Wilkes, Mrs. James (Ellen Needs)  female   \n",
       "894               2                     Myles, Mr. Thomas Francis    male   \n",
       "895               3                              Wirz, Mr. Albert    male   \n",
       "896               3  Hirvonen, Mrs. Alexander (Helga E Lindqvist)  female   \n",
       "\n",
       "              Age  SibSp  Parch   Ticket     Fare Cabin Embarked  \n",
       "PassengerId                                                       \n",
       "892          34.5      0      0   330911   7.8292   NaN        Q  \n",
       "893          47.0      1      0   363272   7.0000   NaN        S  \n",
       "894          62.0      0      0   240276   9.6875   NaN        Q  \n",
       "895          27.0      0      0   315154   8.6625   NaN        S  \n",
       "896          22.0      1      1  3101298  12.2875   NaN        S  "
      ]
     },
     "execution_count": 4,
=======
       "   PassengerId  Pclass                                          Name     Sex  \\\n",
       "0          892       3                              Kelly, Mr. James    male   \n",
       "1          893       3              Wilkes, Mrs. James (Ellen Needs)  female   \n",
       "2          894       2                     Myles, Mr. Thomas Francis    male   \n",
       "3          895       3                              Wirz, Mr. Albert    male   \n",
       "4          896       3  Hirvonen, Mrs. Alexander (Helga E Lindqvist)  female   \n",
       "\n",
       "    Age  SibSp  Parch   Ticket     Fare Cabin Embarked  \n",
       "0  34.5      0      0   330911   7.8292   NaN        Q  \n",
       "1  47.0      1      0   363272   7.0000   NaN        S  \n",
       "2  62.0      0      0   240276   9.6875   NaN        Q  \n",
       "3  27.0      0      0   315154   8.6625   NaN        S  \n",
       "4  22.0      1      1  3101298  12.2875   NaN        S  "
      ]
     },
     "execution_count": 120,
>>>>>>> naive_bayes_classifiers_B
     "metadata": {},
     "output_type": "execute_result"
    }
   ],
   "source": [
    "df_test.head(5)"
   ]
  },
  {
   "cell_type": "code",
<<<<<<< HEAD
   "execution_count": 5,
=======
   "execution_count": 121,
>>>>>>> naive_bayes_classifiers_B
   "metadata": {},
   "outputs": [
    {
     "name": "stdout",
     "output_type": "stream",
     "text": [
      "<class 'pandas.core.frame.DataFrame'>\n",
<<<<<<< HEAD
      "Int64Index: 891 entries, 1 to 891\n",
      "Data columns (total 11 columns):\n",
      "Survived    891 non-null int64\n",
      "Pclass      891 non-null int64\n",
      "Name        891 non-null object\n",
      "Sex         891 non-null object\n",
      "Age         714 non-null float64\n",
      "SibSp       891 non-null int64\n",
      "Parch       891 non-null int64\n",
      "Ticket      891 non-null object\n",
      "Fare        891 non-null float64\n",
      "Cabin       204 non-null object\n",
      "Embarked    889 non-null object\n",
      "dtypes: float64(2), int64(4), object(5)\n",
      "memory usage: 83.5+ KB\n",
      "None\n",
      "<class 'pandas.core.frame.DataFrame'>\n",
      "Int64Index: 418 entries, 892 to 1309\n",
      "Data columns (total 10 columns):\n",
      "Pclass      418 non-null int64\n",
      "Name        418 non-null object\n",
      "Sex         418 non-null object\n",
      "Age         332 non-null float64\n",
      "SibSp       418 non-null int64\n",
      "Parch       418 non-null int64\n",
      "Ticket      418 non-null object\n",
      "Fare        417 non-null float64\n",
      "Cabin       91 non-null object\n",
      "Embarked    418 non-null object\n",
      "dtypes: float64(2), int64(3), object(5)\n",
      "memory usage: 35.9+ KB\n",
=======
      "RangeIndex: 891 entries, 0 to 890\n",
      "Data columns (total 12 columns):\n",
      "PassengerId    891 non-null int64\n",
      "Survived       891 non-null int64\n",
      "Pclass         891 non-null int64\n",
      "Name           891 non-null object\n",
      "Sex            891 non-null object\n",
      "Age            714 non-null float64\n",
      "SibSp          891 non-null int64\n",
      "Parch          891 non-null int64\n",
      "Ticket         891 non-null object\n",
      "Fare           891 non-null float64\n",
      "Cabin          204 non-null object\n",
      "Embarked       889 non-null object\n",
      "dtypes: float64(2), int64(5), object(5)\n",
      "memory usage: 83.6+ KB\n",
      "None\n",
      "<class 'pandas.core.frame.DataFrame'>\n",
      "RangeIndex: 418 entries, 0 to 417\n",
      "Data columns (total 11 columns):\n",
      "PassengerId    418 non-null int64\n",
      "Pclass         418 non-null int64\n",
      "Name           418 non-null object\n",
      "Sex            418 non-null object\n",
      "Age            332 non-null float64\n",
      "SibSp          418 non-null int64\n",
      "Parch          418 non-null int64\n",
      "Ticket         418 non-null object\n",
      "Fare           417 non-null float64\n",
      "Cabin          91 non-null object\n",
      "Embarked       418 non-null object\n",
      "dtypes: float64(2), int64(4), object(5)\n",
      "memory usage: 36.0+ KB\n",
>>>>>>> naive_bayes_classifiers_B
      "None\n"
     ]
    }
   ],
   "source": [
    "print(df_train.info())\n",
    "print(df_test.info())\n",
    "# print(data_df.columns.values.tolist())"
   ]
  },
  {
   "cell_type": "markdown",
   "metadata": {},
   "source": [
<<<<<<< HEAD
    "#### Visualize with Seaborn"
=======
    "#### Clean"
   ]
  },
  {
   "cell_type": "markdown",
   "metadata": {},
   "source": [
    "##### Check for NaN values"
>>>>>>> naive_bayes_classifiers_B
   ]
  },
  {
   "cell_type": "code",
<<<<<<< HEAD
   "execution_count": 6,
=======
   "execution_count": 122,
>>>>>>> naive_bayes_classifiers_B
   "metadata": {},
   "outputs": [
    {
     "data": {
      "text/plain": [
<<<<<<< HEAD
       "<matplotlib.axes._subplots.AxesSubplot at 0x7f5cd5c17d30>"
      ]
     },
     "execution_count": 6,
     "metadata": {},
     "output_type": "execute_result"
    },
    {
     "data": {
      "image/png": "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\n",
      "text/plain": [
       "<Figure size 432x288 with 1 Axes>"
      ]
     },
     "metadata": {
      "needs_background": "light"
     },
     "output_type": "display_data"
    }
   ],
   "source": [
    "sns.countplot('Survived', data=df_train)"
=======
       "PassengerId      0\n",
       "Survived         0\n",
       "Pclass           0\n",
       "Name             0\n",
       "Sex              0\n",
       "Age            177\n",
       "SibSp            0\n",
       "Parch            0\n",
       "Ticket           0\n",
       "Fare             0\n",
       "Cabin          687\n",
       "Embarked         2\n",
       "dtype: int64"
      ]
     },
     "execution_count": 122,
     "metadata": {},
     "output_type": "execute_result"
    }
   ],
   "source": [
    "df_train.isnull().sum()"
   ]
  },
  {
   "cell_type": "markdown",
   "metadata": {},
   "source": [
    "#### Deal with NaN values"
   ]
  },
  {
   "cell_type": "code",
   "execution_count": 123,
   "metadata": {},
   "outputs": [],
   "source": [
    "# Put port = Southampton for 'Embarked' null values:\n",
    "df_train[\"Embarked\"] = df_train[\"Embarked\"].fillna(\"S\")\n",
    "df_test[\"Embarked\"] = df_test[\"Embarked\"].fillna(\"S\")\n",
    "\n",
    "# put the mean passengers age for 'Age' null values\n",
    "df_train[\"Age\"] = df_train[\"Age\"].fillna(df_train[\"Age\"].median())\n",
    "df_test[\"Age\"] = df_test[\"Age\"].fillna(df_train[\"Age\"].median())\n",
    "\n",
    "# put 0 for cabin number for all 'Cabin' null values\n",
    "df_train[\"Cabin\"] = df_train[\"Cabin\"].fillna(0)\n",
    "df_test[\"Cabin\"] = df_test[\"Cabin\"].fillna(0)"
   ]
  },
  {
   "cell_type": "code",
   "execution_count": 124,
   "metadata": {},
   "outputs": [
    {
     "data": {
      "text/plain": [
       "PassengerId    0\n",
       "Survived       0\n",
       "Pclass         0\n",
       "Name           0\n",
       "Sex            0\n",
       "Age            0\n",
       "SibSp          0\n",
       "Parch          0\n",
       "Ticket         0\n",
       "Fare           0\n",
       "Cabin          0\n",
       "Embarked       0\n",
       "dtype: int64"
      ]
     },
     "execution_count": 124,
     "metadata": {},
     "output_type": "execute_result"
    }
   ],
   "source": [
    "# check again:\n",
    "df_train.isnull().sum()"
   ]
  },
  {
   "cell_type": "code",
   "execution_count": 125,
   "metadata": {},
   "outputs": [],
   "source": [
    "#### Categorical text data => to numbers"
>>>>>>> naive_bayes_classifiers_B
   ]
  },
  {
   "cell_type": "code",
<<<<<<< HEAD
   "execution_count": 7,
=======
   "execution_count": 126,
   "metadata": {},
   "outputs": [
    {
     "name": "stdout",
     "output_type": "stream",
     "text": [
      "<class 'pandas.core.frame.DataFrame'>\n",
      "RangeIndex: 891 entries, 0 to 890\n",
      "Data columns (total 12 columns):\n",
      "PassengerId    891 non-null int64\n",
      "Survived       891 non-null int64\n",
      "Pclass         891 non-null int64\n",
      "Name           891 non-null object\n",
      "Sex            891 non-null object\n",
      "Age            891 non-null float64\n",
      "SibSp          891 non-null int64\n",
      "Parch          891 non-null int64\n",
      "Ticket         891 non-null object\n",
      "Fare           891 non-null float64\n",
      "Cabin          891 non-null object\n",
      "Embarked       891 non-null object\n",
      "dtypes: float64(2), int64(5), object(5)\n",
      "memory usage: 83.6+ KB\n"
     ]
    }
   ],
   "source": [
    "df_train.info()"
   ]
  },
  {
   "cell_type": "code",
   "execution_count": 127,
   "metadata": {},
   "outputs": [],
   "source": [
    "df_train.loc[df_train[\"Sex\"] == \"male\", \"Sex\"] = 0\n",
    "df_train.loc[df_train[\"Sex\"] == \"female\", \"Sex\"] = 1\n",
    "\n",
    "df_test.loc[df_test[\"Sex\"] == \"male\", \"Sex\"] = 0\n",
    "df_test.loc[df_test[\"Sex\"] == \"female\", \"Sex\"] = 1\n",
    "\n",
    "df_train.loc[df_train[\"Embarked\"] == \"S\", \"Embarked\"] = 0\n",
    "df_train.loc[df_train[\"Embarked\"] == \"C\", \"Embarked\"] = 1\n",
    "df_train.loc[df_train[\"Embarked\"] == \"Q\", \"Embarked\"] = 2\n",
    "\n",
    "df_test.loc[df_test[\"Embarked\"] == \"S\", \"Embarked\"] = 0\n",
    "df_test.loc[df_test[\"Embarked\"] == \"C\", \"Embarked\"] = 1\n",
    "df_test.loc[df_test[\"Embarked\"] == \"Q\", \"Embarked\"] = 2\n",
    "\n",
    "# sex_new = np.where(df_train[\"Sex\"] == \"male\", 1,0)"
   ]
  },
  {
   "cell_type": "markdown",
   "metadata": {},
   "source": [
    "#### Visualize with Seaborn"
   ]
  },
  {
   "cell_type": "code",
   "execution_count": 128,
>>>>>>> naive_bayes_classifiers_B
   "metadata": {},
   "outputs": [
    {
     "data": {
      "text/plain": [
<<<<<<< HEAD
       "<matplotlib.legend.Legend at 0x7f5cd5c012e8>"
      ]
     },
     "execution_count": 7,
=======
       "<matplotlib.axes._subplots.AxesSubplot at 0x7fb46f14da90>"
      ]
     },
     "execution_count": 128,
>>>>>>> naive_bayes_classifiers_B
     "metadata": {},
     "output_type": "execute_result"
    },
    {
     "data": {
<<<<<<< HEAD
      "image/png": "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\n",
=======
      "image/png": "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\n",
>>>>>>> naive_bayes_classifiers_B
      "text/plain": [
       "<Figure size 432x288 with 1 Axes>"
      ]
     },
<<<<<<< HEAD
     "metadata": {
      "needs_background": "light"
     },
=======
     "metadata": {},
>>>>>>> naive_bayes_classifiers_B
     "output_type": "display_data"
    }
   ],
   "source": [
<<<<<<< HEAD
    "sns.countplot('Survived', hue='Sex', data=df_train)\n",
    "# plt.title(\"Male/Female Survived\")\n",
    "plt.legend(bbox_to_anchor=(1, 1), loc=2)"
=======
    "sns.countplot('Survived', data=df_train)\n"
>>>>>>> naive_bayes_classifiers_B
   ]
  },
  {
   "cell_type": "code",
<<<<<<< HEAD
   "execution_count": 8,
=======
   "execution_count": 129,
>>>>>>> naive_bayes_classifiers_B
   "metadata": {},
   "outputs": [
    {
     "data": {
      "text/plain": [
<<<<<<< HEAD
       "<matplotlib.legend.Legend at 0x7f5cd3b77588>"
      ]
     },
     "execution_count": 8,
=======
       "<matplotlib.axes._subplots.AxesSubplot at 0x7fb46f0bec50>"
      ]
     },
     "execution_count": 129,
>>>>>>> naive_bayes_classifiers_B
     "metadata": {},
     "output_type": "execute_result"
    },
    {
     "data": {
<<<<<<< HEAD
      "image/png": "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\n",
=======
      "image/png": "iVBORw0KGgoAAAANSUhEUgAAAZIAAAESCAYAAADXMlMiAAAABHNCSVQICAgIfAhkiAAAAAlwSFlzAAALEgAACxIB0t1+/AAAADl0RVh0U29mdHdhcmUAbWF0cGxvdGxpYiB2ZXJzaW9uIDMuMC4yLCBodHRwOi8vbWF0cGxvdGxpYi5vcmcvOIA7rQAAGK1JREFUeJzt3Xtw1NX9//FXdkm4CGsIkAuJAxgEU9NKdVtLoVJAhlsAYbDBRKUoU8FxynRGIUpMMhC0CVTHLwGhhQpMUVqol2ZliG3DUKEWRcUWQsXBYIVkEyDAgoZcdvf3B8P+WC7J4tlb4PmYyQx7zudz9v3Z2dkX5/P57NkYr9frFQAA35Il0gUAADo2ggQAYIQgAQAYIUgAAEYIEgCAEYIEAGCEIAEAGCFIAABGCBIAgBGCBABghCABABjpFOkCQuXcuXPat2+f+vTpI6vVGulyAKBDcLvdOnbsmDIzM9WlS5eA9rlug2Tfvn3Kzc2NdBkA0CFt3LhRdrs9oG2v2yDp06ePpPMvRnJycoSrAYCOwel0Kjc31/cZGojrNkgunM5KTk5WWlpahKsBgI7lWi4JcLEdAGCEIAEAGLluT20BQLi4XC7V19erpaUl0qUE7KabblJaWposFvP5BEECAAZcLpfq6uqUmpqqrl27KiYmJtIltcvj8ejo0aM6fvy4EhMTjcfj1BYAGKivr1dqaqq6devWIUJEkiwWi5KSknT69OngjBeUUQDgBtXS0qKuXbtGuoxrFhsbq9bW1qCMRZAAgKGOMhO5WDBr5hpJG5pb3IqLZXkVidcCCJU1a9borbfe8n2wz5s3T/fdd1+Eq7o2BEkb4mKtypm/MdJlRIXXSlluBgi2Tz/9VFu3btWf//xnde7cWWfPntXJkycjXdY149QWAERIfX29evbsqbi4OElS9+7ddcstt+jcuXMqKCjQ9OnTNWnSJL322muSpO3bt+vBBx+U2+3W2bNnNW7cOP33v/+N5CFIIkgAIGKGDRumkydPasyYMcrPz9eOHTskSatXr9Z3v/tdbdmyRVu2bNHmzZv15ZdfauTIkRo4cKB+97vfafHixZo+fbpuv/32CB8Fp7YAIGK6deumLVu26OOPP9YHH3ygRYsWadq0adqxY4eam5v1hz/8QZJ05swZHT58WP369dMzzzyjKVOmKDExUS+88EKEj+A8ggQAIshischut8tut2v48OFauHChYmNj9eKLL2rQoEGXbX/s2DG1trbqzJkzamlpUefOnSNQtT9ObQFAhHzxxRc6dOiQ7/GBAwfUt29f/eQnP9GGDRvk8XgkSdXV1fr666/ldru1YMECFRYWauTIkVq2bFmkSvfDjAQAIuSbb75RcXGxTp8+rbi4OPXu3VtFRUVKTExUSUmJpkyZIq/Xq549e2r58uXasGGDBg0apJ/+9KcaNmyYsrOz9f7772vo0KERPQ6CBAAiJDMzU5s2bbpiX0FBwWVtc+fO9f07NjZWb7zxRshquxac2gIAGCFIAABGCBIAgBGCBABghCABABghSAAARggSAIARggQAgqy5xR3Rcaurq5Wdna2xY8cqOztbhw8fDkk9F/CFRAAIslD9llGgvwtUWFionJwcTZkyRW+//bYKCgq0YcOGoNdzATMSALiOnDhxQlVVVcrKypIkZWVlqaqqSg0NDSF7ToIEAK4jtbW1SkpKktV6/qexrVarEhMTVVtbG7LnJEgAAEYIEgC4jqSkpKiurk5u9/kL8263W/X19UpJSQnZcxIkAHAd6dWrlzIyMuRwOCRJDodDGRkZSkhICNlzctcWAARZc4s74DusrnXcuFhru9sVFRUpLy9PK1eulM1mU0lJSdBruRhBAgBBFsiHfSjHTU9P1+bNm0NSw5VwagsAYIQgAQAYCXuQlJWVafDgwTp48KAkae/evZo8ebLGjh2rRx99VCdOnPBt21YfACA6hDVI9u/fr7179yo1NVWS5PF49PTTT6ugoEAVFRWy2+1atmxZu30AgOgRtiBpbm7WokWLVFRU5Gvbt2+fOnfuLLvdLkmaMWOGtm3b1m7fpVwul44cOeL353Q6Q3tAAABJYbxr6+WXX9bkyZOVlpbma6utrVXfvn19jxMSEuTxeHTq1Kk2++Lj4/3GXr9+vcrKykJ/EACAy4QlSD755BPt27dPTz31VEjGnzlzpqZOnerX5nQ6lZsb/Pu4AaA9ntYWWTrFRmzckpISVVRU6OjRoyovL9egQYOCXsvFwhIkH374oQ4dOqTRo0dLOv8h/9hjj+nhhx9WTU2Nb7uGhgZZLBbFx8crJSXlqn2XstlsstlsoT8QAAiApVOsPiqdHfRx756/JqDtRo8erUceeSRs/5kOyzWSX/ziF9q5c6cqKytVWVmp5ORkrV27VrNnz9a5c+e0Z88eSdKmTZs0btw4SVJmZuZV+wAAV2e320O6ttalIvrNdovFotLSUhUWFqqpqUmpqalaunRpu30AgOgRkSCprKz0/fuuu+5SeXn5Fbdrqw8AEB34ZjsAwAhBAgAwQpAAwHWmuLhY9957r5xOp2bNmqWJEyeG9PlYRh4AgszT2hLwrbrXOm4g3yPJz89Xfn5+0J//apiRAECQheLLiKEc1xRBAgAwQpAAAIwQJABgyOPxRLqEa+b1eoM2FkECAAZuuukmHT16VM3NzUH9cA4lr9erEydOqEuXLkEZj7u2AMBAWlqajh8/ri+//FKtra2RLidgXbp08ftZDxMECQAYsFgsSkxMVGJiYqRLiRhObQEAjBAkAAAjBAkAwAhBAgAwQpAAAIwQJAAAIwQJAMAIQQIAMEKQAACMECQAACMECQDACEECADBCkAAAjBAkAAAjBAkAwAhBAgAwQpAAAIwQJAAAIwQJAMAIQQIAMEKQAACMECQAACMECQDACEECADDSKVxP9MQTT+jIkSOyWCzq1q2bnnvuOWVkZKi6ulp5eXk6deqU4uPjVVJSov79+0tSm30AgOgQthlJSUmJ/vKXv+itt97So48+qmeffVaSVFhYqJycHFVUVCgnJ0cFBQW+fdrqAwBEh7AFSY8ePXz/Pnv2rGJiYnTixAlVVVUpKytLkpSVlaWqqio1NDS02QcAiB5hO7UlSQsXLtSuXbvk9Xq1Zs0a1dbWKikpSVarVZJktVqVmJio2tpaeb3eq/YlJCT4jetyueRyufzanE5neA4KAG5wYQ2SJUuWSJLeeustlZaWat68eUEZd/369SorKwvKWACAaxPWILng/vvvV0FBgZKTk1VXVye32y2r1Sq32636+nqlpKTI6/Vete9SM2fO1NSpU/3anE6ncnNzw3VIAHDDCss1kq+//lq1tbW+x5WVlbr55pvVq1cvZWRkyOFwSJIcDocyMjKUkJDQZt+lbDab0tLS/P6Sk5PDcWgAcMMLy4yksbFR8+bNU2NjoywWi26++WatWrVKMTExKioqUl5enlauXCmbzaaSkhLffm31AQCiQ1iCpHfv3vrTn/50xb709HRt3rz5mvsAANGBb7YDAIwQJAAAIwQJAMAIQQIAMBJwkKxdu/aK7a+++mrQigEAdDwBB8mKFSuu2P7KK68ErRgAQMfT7u2/77//viTJ4/HoX//6l7xer6/vyJEjuummm0JXHQAg6rUbJAsXLpQkNTU1+ZZ+l6SYmBj16dNH+fn5oasOABD12g2SyspKSdL8+fNVWloa8oIAAB1LwN9svzhEPB6PX5/Fws1fAHCjCjhI9u/fr0WLFumzzz5TU1OTJMnr9SomJkYHDhwIWYEAgOgWcJDk5eVp5MiRev7559WlS5dQ1gQA6EACDpKjR4/qV7/6lWJiYkJZDwCggwn44saYMWO0c+fOUNYCAOiAAp6RNDU16cknn9Tdd9+t3r17+/VxNxcA3LgCDpKBAwdq4MCBoawFANABBRwkTz75ZCjrAAB0UAEHyYWlUq5k6NChQSkGANDxBBwkF5ZKueDkyZNqaWlRUlKS/v73vwe9MABAxxBwkFxYKuUCt9utV155hUUbAeAG963XNrFarZozZ47WrFkTzHoAAB2M0SJZu3bt4guKAHCDC/jU1ogRI/xCo7GxUc3NzSosLAxJYQCAjiHgIFm6dKnf465du2rAgAHq3r170IsCAHQcAQfJD3/4Q0nnl5A/fvy4evfuzfLxAKKCp7VFlk6xkS4jKkTitQg4SM6ePatFixZp69atam1tVadOnTRx4kTl5+erR48eoawRANpk6RSrj0pnR7qMqHD3/PDfABXwlKK4uFiNjY0qLy/Xv//9b5WXl6uxsVHFxcWhrA8AEOUCnpG89957+tvf/qauXbtKkgYMGKAXXnhBY8aMCVlxAIDoF/CMpHPnzmpoaPBrO3nypOLi4oJeFACg4wh4RjJ9+nQ9+uij+vnPf66+ffuqpqZG69at0wMPPBDK+gAAUS7gIJk7d66SkpJUXl6u+vp6JSYmavbs2QQJANzgAj61tWTJEg0YMEDr1q3T1q1btW7dOqWnp2vJkiWhrA8AEOUCDhKHw6HMzEy/tszMTDkcjqAXBQDoOAIOkpiYGHk8Hr82t9t9WRsA4MYScJDY7Xa9/PLLvuDweDxavny57HZ7yIoDAES/a/phq8cff1zDhw9X3759VVtbqz59+mjVqlXt7nvy5EnNnz9f//vf/xQXF6d+/fpp0aJFSkhI0N69e1VQUKCmpialpqZq6dKl6tWrlyS12QcAiA4Bz0iSk5P15ptvauXKlXrssce0YsUKvfHGG0pOTm5335iYGM2ePVsVFRUqLy/XLbfcomXLlsnj8ejpp59WQUGBKioqZLfbtWzZMklqsw8AED2uadVFi8WiIUOGaPz48RoyZEjAizbGx8frnnvu8T0eMmSIampqtG/fPnXu3Nl3emzGjBnatm2bJLXZBwCIHgGf2goWj8ej119/XaNGjVJtba369u3r60tISJDH49GpU6fa7IuPj/cb0+VyyeVy+bU5nc7QHggAQFIEgmTx4sXq1q2bHnroIf31r38Nypjr169XWVlZUMYCAFybsAZJSUmJvvzyS61atUoWi0UpKSmqqanx9Tc0NMhisSg+Pr7NvkvNnDlTU6dO9WtzOp3Kzc0N3cEAACSFMUhefPFF7du3T7/97W99Cz1mZmbq3Llz2rNnj+x2uzZt2qRx48a123cpm80mm80WrkMBAFwkLEHy+eefa/Xq1erfv79mzJghSUpLS9OKFStUWlqqwsJCv1t8pfMX9q/WBwCIHmEJkttuu02fffbZFfvuuusulZeXX3MfACA68KPrAAAjBAkAwAhBAgAwQpAAAIwQJAAAIwQJAMAIQQIAMEKQAACMECQAACMECQDACEECADBCkAAAjBAkAAAjBAkAwAhBAgAwQpAAAIwQJAAAIwQJAMAIQQIAMEKQAACMECQAACMECQDACEECADBCkAAAjBAkAAAjBAkAwAhBAgAwQpAAAIwQJAAAIwQJAMAIQQIAMEKQAACMECQAACMECQDACEECADASliApKSnRqFGjNHjwYB08eNDXXl1drezsbI0dO1bZ2dk6fPhwQH0ApOYWd6RLACRJncLxJKNHj9Yjjzyi3Nxcv/bCwkLl5ORoypQpevvtt1VQUKANGza02wdAiou1Kmf+xkiXERVeK81tfyOETFhmJHa7XSkpKX5tJ06cUFVVlbKysiRJWVlZqqqqUkNDQ5t9AIDoEpYZyZXU1tYqKSlJVqtVkmS1WpWYmKja2lp5vd6r9iUkJFw2lsvlksvl8mtzOp2hPwgAQOSCJJjWr1+vsrKySJcBADekiAVJSkqK6urq5Ha7ZbVa5Xa7VV9fr5SUFHm93qv2XcnMmTM1depUvzan03nZNRkAQPBF7PbfXr16KSMjQw6HQ5LkcDiUkZGhhISENvuuxGazKS0tze8vOTk5bMcCADeysMxIiouL9e677+r48eOaNWuW4uPj9c4776ioqEh5eXlauXKlbDabSkpKfPu01QcAiB5hCZL8/Hzl5+df1p6enq7NmzdfcZ+2+gAA0YNvtgMAjBAkAAAjBAkAwAhBgoB4WlsiXULU4LUA/F0XX0hE6Fk6xeqj0tmRLiMq3D1/TaRLAKIKMxIAgBGCBABghCABABghSAAARggSAIARggQAYIQgAQAYIUgAAEYIEgCAEYIEAGCEIAEAGCFIAABGCBIAgBGCBABghCABABghSAAARggSAIARggQAYIQgAQAYIUgAAEYIEgCAEYIEAGCEIAEAGCFIAABGCBIAgBGCBABghCABABghSAAARggSAIARggQAYIQgAQAYifogqa6uVnZ2tsaOHavs7GwdPnw40iUBAC4S9UFSWFionJwcVVRUKCcnRwUFBZEuCQBwkU6RLqAtJ06cUFVVlV599VVJUlZWlhYvXqyGhgYlJCT4tnO5XHK5XH77Hj16VJLkdDqNamj65pTR/teLI0eO6NiZc5EuIyocOXIk0iX48P48j/fn/2f6/rzwmel2uwPeJ6qDpLa2VklJSbJarZIkq9WqxMRE1dbW+gXJ+vXrVVZWdsUxcnNzw1Lr9W70X/8v0iVEjz+NjnQFuATvz4sE6f157Ngx9evXL6BtozpIAjVz5kxNnTrVr625uVlfffWV+vfv7wsifDtOp1O5ubnauHGjkpOTI10O4If3Z3C53W4dO3ZMmZmZAe8T1UGSkpKiuro6ud1uWa1Wud1u1dfXKyUlxW87m80mm8122f633npruEq9ISQnJystLS3SZQBXxPszeAKdiVwQ1Rfbe/XqpYyMDDkcDkmSw+FQRkaG32ktAEBkRfWMRJKKioqUl5enlStXymazqaSkJNIlAQAuEvVBkp6ers2bN0e6DADAVUT1qS1EB5vNpieffPKK16GASOP9GXkxXq/XG+kiAAAdFzMSAIARggQAYIQgQbtYOBPRqqSkRKNGjdLgwYN18ODBSJdzwyJI0C4WzkS0Gj16tDZu3KjU1NRIl3JDI0jQpgsLZ2ZlZUk6v3BmVVWVGhoaIlwZINnt9stWukD4ESRoU1sLZwKARJAAAAwRJGjTxQtnSrrqwpkAblwECdrEwpkA2sM329GuQ4cOKS8vTy6Xy7dwJkv0IxoUFxfr3Xff1fHjx9WzZ0/Fx8frnXfeiXRZNxyCBABghFNbAAAjBAkAwAhBAgAwQpAAAIwQJAAAIwQJECEFBQVasWJF0Mddvny5nnrqqaCPC1xN1P9mOxBue/bs0bJly/T555/LarXq1ltv1bPPPqvvfe97QX2eRYsWBXU8IFIIEuAiZ8+e1Zw5c1RUVKTx48erpaVFe/bsUVxc3DWN4/V65fV6ZbEw6cf1j3c5cJHq6mpJ55fLt1qt6tKli4YPH67bb7/9slNGR44c0eDBg9Xa2ipJevjhh/XSSy9pxowZuvPOO7VmzRpNmzbNb/x169Zpzpw5kqS8vDy99NJLkqTx48dr+/btvu1aW1v1ox/9SPv375ck7d27VzNmzJDdbtfkyZO1e/du37ZfffWVHnroIX3/+9/XrFmzdPLkyRC8MsDVESTARQYMGCCr1aoFCxZox44dOn369DXt//bbb2vx4sX6+OOP9eCDD6q6utrvFyXLy8s1adKky/abOHGibz0zSdq5c6d69uypO+64Q3V1dXr88cc1d+5cffDBB1qwYIF++ctf+n4T5qmnntIdd9yh3bt364knntCbb7757Q4e+JYIEuAi3bt312uvvaaYmBg999xzGjp0qObMmaPjx48HtP/UqVN12223qVOnTurRo4dGjx7tC4jDhw/riy++0KhRoy7bb9KkSaqsrFRjY6Ok84EzceJESefD6d5779WIESNksVg0bNgwZWZmaseOHaqpqdF//vMfzZs3T3FxcfrBD35wxfGBUCJIgEukp6fr17/+tf7xj3+ovLxc9fX1ev755wPa99Ll9SdNmuRbRNDhcOi+++5T165dL9uvX79+Sk9P1/bt29XY2KjKykrfzKWmpkbbtm2T3W73/X300Uc6duyY6uvrZbPZ1K1bN99Yffv2/baHDnwrXGwH2pCenq5p06bpj3/8o77zne/o3Llzvr4rzVJiYmL8Hv/4xz9WQ0ODDhw4IIfDoWeeeeaqz5WVlSWHwyGPx6OBAweqX79+ks6H05QpU1RcXHzZPkePHpXL5dI333zjC5OamprL6gBCiRkJcJFDhw7p97//vZxOp6TzPzXscDh05513KiMjQx9++KFqamp05swZrV69ut3xYmNjNW7cOJWWlur06dMaNmzYVbedMGGCdu3apddff11ZWVm+9smTJ2v79u1677335Ha71dTUpN27d8vpdCo1NVWZmZlavny5mpubtWfPHr+L9kA4ECTARbp3765PP/1UDzzwgIYMGaKf/exnGjRokPLy8jRs2DBNmDBBkydP1rRp0zRy5MiAxpw0aZL++c9/aty4cerU6eonARITEzVkyBB98sknmjBhgq89JSVFK1eu1OrVqzV06FCNGDFCa9eulcfjkST95je/0aeffqp77rlHK1as0P3332/2IgDXiN8jAQAYYUYCADBCkAAAjBAkAAAjBAkAwAhBAgAwQpAAAIwQJAAAIwQJAMAIQQIAMPL/APK3zUzZBA7QAAAAAElFTkSuQmCC\n",
>>>>>>> naive_bayes_classifiers_B
      "text/plain": [
       "<Figure size 432x288 with 1 Axes>"
      ]
     },
<<<<<<< HEAD
     "metadata": {
      "needs_background": "light"
     },
=======
     "metadata": {},
>>>>>>> naive_bayes_classifiers_B
     "output_type": "display_data"
    }
   ],
   "source": [
<<<<<<< HEAD
    "sns.countplot('Survived', hue='Pclass', data=df_train)\n",
    "plt.legend(bbox_to_anchor=(1, 1), loc=2)"
=======
    "sns.countplot('Survived', hue='Sex', data=df_train)"
>>>>>>> naive_bayes_classifiers_B
   ]
  },
  {
   "cell_type": "code",
<<<<<<< HEAD
   "execution_count": 9,
=======
   "execution_count": 130,
>>>>>>> naive_bayes_classifiers_B
   "metadata": {},
   "outputs": [
    {
     "data": {
      "text/plain": [
<<<<<<< HEAD
       "<matplotlib.axes._subplots.AxesSubplot at 0x7f5cd3af0080>"
      ]
     },
     "execution_count": 9,
=======
       "<matplotlib.axes._subplots.AxesSubplot at 0x7fb46efabcc0>"
      ]
     },
     "execution_count": 130,
>>>>>>> naive_bayes_classifiers_B
     "metadata": {},
     "output_type": "execute_result"
    },
    {
     "data": {
<<<<<<< HEAD
      "image/png": "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\n",
=======
      "image/png": "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\n",
>>>>>>> naive_bayes_classifiers_B
      "text/plain": [
       "<Figure size 432x288 with 1 Axes>"
      ]
     },
<<<<<<< HEAD
     "metadata": {
      "needs_background": "light"
     },
=======
     "metadata": {},
>>>>>>> naive_bayes_classifiers_B
     "output_type": "display_data"
    }
   ],
   "source": [
<<<<<<< HEAD
    "df_train['Age'].plot.hist(bins=30)"
=======
    "sns.countplot('Survived', hue='Pclass', data=df_train)"
>>>>>>> naive_bayes_classifiers_B
   ]
  },
  {
   "cell_type": "code",
<<<<<<< HEAD
   "execution_count": 10,
=======
   "execution_count": 131,
>>>>>>> naive_bayes_classifiers_B
   "metadata": {},
   "outputs": [
    {
     "data": {
      "text/plain": [
<<<<<<< HEAD
       "<matplotlib.axes._subplots.AxesSubplot at 0x7f5cd3b03b38>"
      ]
     },
     "execution_count": 10,
=======
       "<matplotlib.axes._subplots.AxesSubplot at 0x7fb46ef289e8>"
      ]
     },
     "execution_count": 131,
>>>>>>> naive_bayes_classifiers_B
     "metadata": {},
     "output_type": "execute_result"
    },
    {
     "data": {
<<<<<<< HEAD
      "image/png": "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\n",
      "text/plain": [
       "<Figure size 720x288 with 1 Axes>"
      ]
     },
     "metadata": {
      "needs_background": "light"
     },
=======
      "image/png": "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\n",
      "text/plain": [
       "<Figure size 432x288 with 1 Axes>"
      ]
     },
     "metadata": {},
>>>>>>> naive_bayes_classifiers_B
     "output_type": "display_data"
    }
   ],
   "source": [
<<<<<<< HEAD
    "# df_train['Fare'].plot.hist()\n",
    "df_train['Fare'].hist(bins=80, figsize=(10,4))"
   ]
  },
  {
   "cell_type": "markdown",
   "metadata": {},
   "source": [
    "### Clean and wrangle the data"
   ]
  },
  {
   "cell_type": "markdown",
   "metadata": {},
   "source": [
    "#### Check for NaN values"
=======
    "sns.countplot('Survived', hue='Pclass', data=df_train)"
>>>>>>> naive_bayes_classifiers_B
   ]
  },
  {
   "cell_type": "code",
<<<<<<< HEAD
   "execution_count": 11,
=======
   "execution_count": 132,
>>>>>>> naive_bayes_classifiers_B
   "metadata": {},
   "outputs": [
    {
     "data": {
      "text/plain": [
<<<<<<< HEAD
       "Pclass        0\n",
       "Name          0\n",
       "Sex           0\n",
       "Age          86\n",
       "SibSp         0\n",
       "Parch         0\n",
       "Ticket        0\n",
       "Fare          1\n",
       "Cabin       327\n",
       "Embarked      0\n",
       "dtype: int64"
      ]
     },
     "execution_count": 11,
     "metadata": {},
     "output_type": "execute_result"
    }
   ],
   "source": [
    "df_train.isnull().sum()\n",
    "df_test.isnull().sum()"
   ]
  },
  {
   "cell_type": "markdown",
   "metadata": {},
   "source": [
    "Columns 'Age', 'Cabin' and 'Embarked' <span style=\"color:red\">has NaN</span> values. We have to deal with them."
   ]
  },
  {
   "cell_type": "markdown",
   "metadata": {},
   "source": [
    "#### Deal with NaN values"
   ]
  },
  {
   "cell_type": "code",
   "execution_count": 12,
   "metadata": {},
   "outputs": [],
   "source": [
    "def fill_nan_values(df):\n",
    "    # Put port = Southampton for 'Embarked' null values:\n",
    "    df[\"Embarked\"] = df[\"Embarked\"].fillna(\"S\")\n",
    "    \n",
    "    # put the mean passengers age for 'Age' null values\n",
    "    df[\"Age\"] = df[\"Age\"].fillna(df[\"Age\"].median())\n",
    "    \n",
    "    # put 0 for cabin number for all 'Cabin' null values\n",
    "    df[\"Cabin\"] = df[\"Cabin\"].fillna(0)\n",
    "    \n",
    "    # put the mean Fare for 'fare' null values:\n",
    "    df[\"Fare\"] = df[\"Fare\"].fillna(df[\"Fare\"].median())\n",
    "    \n",
    "    return df\n"
   ]
  },
  {
   "cell_type": "code",
   "execution_count": 13,
   "metadata": {},
   "outputs": [],
   "source": [
    "df_train = fill_nan_values(df_train)\n",
    "df_test = fill_nan_values(df_test)"
   ]
  },
  {
   "cell_type": "code",
   "execution_count": 14,
   "metadata": {},
   "outputs": [
    {
     "data": {
      "text/plain": [
       "Pclass      0\n",
       "Name        0\n",
       "Sex         0\n",
       "Age         0\n",
       "SibSp       0\n",
       "Parch       0\n",
       "Ticket      0\n",
       "Fare        0\n",
       "Cabin       0\n",
       "Embarked    0\n",
       "dtype: int64"
      ]
     },
     "execution_count": 14,
     "metadata": {},
     "output_type": "execute_result"
    }
   ],
   "source": [
    "# check again:\n",
    "df_train.isnull().sum()\n",
    "df_test.isnull().sum()"
   ]
  },
  {
   "cell_type": "markdown",
   "metadata": {},
   "source": [
    "#### Categorical text data => to numbers"
=======
       "<matplotlib.axes._subplots.AxesSubplot at 0x7fb46ee8a860>"
      ]
     },
     "execution_count": 132,
     "metadata": {},
     "output_type": "execute_result"
    },
    {
     "data": {
      "image/png": "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\n",
      "text/plain": [
       "<Figure size 432x288 with 1 Axes>"
      ]
     },
     "metadata": {},
     "output_type": "display_data"
    }
   ],
   "source": [
    "df_train['Age'].plot.hist()"
>>>>>>> naive_bayes_classifiers_B
   ]
  },
  {
   "cell_type": "code",
<<<<<<< HEAD
   "execution_count": 15,
   "metadata": {},
   "outputs": [
    {
     "name": "stdout",
     "output_type": "stream",
     "text": [
      "<class 'pandas.core.frame.DataFrame'>\n",
      "Int64Index: 891 entries, 1 to 891\n",
      "Data columns (total 11 columns):\n",
      "Survived    891 non-null int64\n",
      "Pclass      891 non-null int64\n",
      "Name        891 non-null object\n",
      "Sex         891 non-null object\n",
      "Age         891 non-null float64\n",
      "SibSp       891 non-null int64\n",
      "Parch       891 non-null int64\n",
      "Ticket      891 non-null object\n",
      "Fare        891 non-null float64\n",
      "Cabin       891 non-null object\n",
      "Embarked    891 non-null object\n",
      "dtypes: float64(2), int64(4), object(5)\n",
      "memory usage: 123.5+ KB\n"
     ]
    }
   ],
   "source": [
    "df_train.info()"
   ]
  },
  {
   "cell_type": "code",
   "execution_count": 16,
   "metadata": {},
   "outputs": [],
   "source": [
    "def categories_to_numbers(df):\n",
    "    if df['Sex'].dtype == \"object\":\n",
    "        df[\"Sex\"] = np.where(df[\"Sex\"] == \"male\", 1,0) \n",
    "        \n",
    "    if df['Embarked'].dtype == \"object\": \n",
    "        # is this more readable?\n",
    "        # df.loc[df[\"Embarked\"] == \"S\", \"Embarked\"] = 0\n",
    "        # df.loc[df[\"Embarked\"] == \"C\", \"Embarked\"] = 1\n",
    "        # df.loc[df[\"Embarked\"] == \"Q\", \"Embarked\"] = 2\n",
    "\n",
    "        # Get the unique values of Embarked\n",
    "        embarks = sorted(df['Embarked'].unique())\n",
    "\n",
    "        # Generate a mapping of Embarked string to a numbers (0,1,...)    \n",
    "        embarks_map = dict(zip(embarks, range(0, len(embarks) + 1)))\n",
    "\n",
    "        # Transform Embarked from a string to a number representation\n",
    "        df['Embarked'] = df['Embarked'].map(embarks_map).astype(int)\n",
    "        \n",
    "    print(\"df['Sex'].dtype\", df['Sex'].dtype)\n",
    "    print(\"df['Embarked'].dtype\", df['Embarked'].dtype)\n",
    "\n",
    "    return df"
=======
   "execution_count": 133,
   "metadata": {},
   "outputs": [
    {
     "data": {
      "text/plain": [
       "0      0\n",
       "1      1\n",
       "2      1\n",
       "3      1\n",
       "4      0\n",
       "5      0\n",
       "6      0\n",
       "7      0\n",
       "8      1\n",
       "9      1\n",
       "10     1\n",
       "11     1\n",
       "12     0\n",
       "13     0\n",
       "14     1\n",
       "15     1\n",
       "16     0\n",
       "17     0\n",
       "18     1\n",
       "19     1\n",
       "20     0\n",
       "21     0\n",
       "22     1\n",
       "23     0\n",
       "24     1\n",
       "25     1\n",
       "26     0\n",
       "27     0\n",
       "28     1\n",
       "29     0\n",
       "      ..\n",
       "861    0\n",
       "862    1\n",
       "863    1\n",
       "864    0\n",
       "865    1\n",
       "866    1\n",
       "867    0\n",
       "868    0\n",
       "869    0\n",
       "870    0\n",
       "871    1\n",
       "872    0\n",
       "873    0\n",
       "874    1\n",
       "875    1\n",
       "876    0\n",
       "877    0\n",
       "878    0\n",
       "879    1\n",
       "880    1\n",
       "881    0\n",
       "882    1\n",
       "883    0\n",
       "884    0\n",
       "885    1\n",
       "886    0\n",
       "887    1\n",
       "888    1\n",
       "889    0\n",
       "890    0\n",
       "Name: Sex, Length: 891, dtype: int64"
      ]
     },
     "execution_count": 133,
     "metadata": {},
     "output_type": "execute_result"
    }
   ],
   "source": [
    "# show correlations\n",
    "df_train_corr = df_train.corr()\n",
    "\n",
    "df_train['Sex']"
>>>>>>> naive_bayes_classifiers_B
   ]
  },
  {
   "cell_type": "code",
<<<<<<< HEAD
   "execution_count": 17,
   "metadata": {},
   "outputs": [
    {
     "name": "stdout",
     "output_type": "stream",
     "text": [
      "df['Sex'].dtype int64\n",
      "df['Embarked'].dtype int64\n",
      "df['Sex'].dtype int64\n",
      "df['Embarked'].dtype int64\n"
     ]
    },
    {
     "data": {
      "text/html": [
       "<div>\n",
       "<style scoped>\n",
       "    .dataframe tbody tr th:only-of-type {\n",
       "        vertical-align: middle;\n",
       "    }\n",
       "\n",
       "    .dataframe tbody tr th {\n",
       "        vertical-align: top;\n",
       "    }\n",
       "\n",
       "    .dataframe thead th {\n",
       "        text-align: right;\n",
       "    }\n",
       "</style>\n",
       "<table border=\"1\" class=\"dataframe\">\n",
       "  <thead>\n",
       "    <tr style=\"text-align: right;\">\n",
       "      <th></th>\n",
       "      <th>Survived</th>\n",
       "      <th>Pclass</th>\n",
       "      <th>Name</th>\n",
       "      <th>Sex</th>\n",
       "      <th>Age</th>\n",
       "      <th>SibSp</th>\n",
       "      <th>Parch</th>\n",
       "      <th>Ticket</th>\n",
       "      <th>Fare</th>\n",
       "      <th>Cabin</th>\n",
       "      <th>Embarked</th>\n",
       "    </tr>\n",
       "    <tr>\n",
       "      <th>PassengerId</th>\n",
       "      <th></th>\n",
       "      <th></th>\n",
       "      <th></th>\n",
       "      <th></th>\n",
       "      <th></th>\n",
       "      <th></th>\n",
       "      <th></th>\n",
       "      <th></th>\n",
       "      <th></th>\n",
       "      <th></th>\n",
       "      <th></th>\n",
       "    </tr>\n",
       "  </thead>\n",
       "  <tbody>\n",
       "    <tr>\n",
       "      <th>1</th>\n",
       "      <td>0</td>\n",
       "      <td>3</td>\n",
       "      <td>Braund, Mr. Owen Harris</td>\n",
       "      <td>1</td>\n",
       "      <td>22.0</td>\n",
       "      <td>1</td>\n",
       "      <td>0</td>\n",
       "      <td>A/5 21171</td>\n",
       "      <td>7.2500</td>\n",
       "      <td>0</td>\n",
       "      <td>2</td>\n",
       "    </tr>\n",
       "    <tr>\n",
       "      <th>2</th>\n",
       "      <td>1</td>\n",
       "      <td>1</td>\n",
       "      <td>Cumings, Mrs. John Bradley (Florence Briggs Th...</td>\n",
       "      <td>0</td>\n",
       "      <td>38.0</td>\n",
       "      <td>1</td>\n",
       "      <td>0</td>\n",
       "      <td>PC 17599</td>\n",
       "      <td>71.2833</td>\n",
       "      <td>C85</td>\n",
       "      <td>0</td>\n",
       "    </tr>\n",
       "    <tr>\n",
       "      <th>3</th>\n",
       "      <td>1</td>\n",
       "      <td>3</td>\n",
       "      <td>Heikkinen, Miss. Laina</td>\n",
       "      <td>0</td>\n",
       "      <td>26.0</td>\n",
       "      <td>0</td>\n",
       "      <td>0</td>\n",
       "      <td>STON/O2. 3101282</td>\n",
       "      <td>7.9250</td>\n",
       "      <td>0</td>\n",
       "      <td>2</td>\n",
       "    </tr>\n",
       "    <tr>\n",
       "      <th>4</th>\n",
       "      <td>1</td>\n",
       "      <td>1</td>\n",
       "      <td>Futrelle, Mrs. Jacques Heath (Lily May Peel)</td>\n",
       "      <td>0</td>\n",
       "      <td>35.0</td>\n",
       "      <td>1</td>\n",
       "      <td>0</td>\n",
       "      <td>113803</td>\n",
       "      <td>53.1000</td>\n",
       "      <td>C123</td>\n",
       "      <td>2</td>\n",
       "    </tr>\n",
       "    <tr>\n",
       "      <th>5</th>\n",
       "      <td>0</td>\n",
       "      <td>3</td>\n",
       "      <td>Allen, Mr. William Henry</td>\n",
       "      <td>1</td>\n",
       "      <td>35.0</td>\n",
       "      <td>0</td>\n",
       "      <td>0</td>\n",
       "      <td>373450</td>\n",
       "      <td>8.0500</td>\n",
       "      <td>0</td>\n",
       "      <td>2</td>\n",
       "    </tr>\n",
       "  </tbody>\n",
       "</table>\n",
       "</div>"
      ],
      "text/plain": [
       "             Survived  Pclass  \\\n",
       "PassengerId                     \n",
       "1                   0       3   \n",
       "2                   1       1   \n",
       "3                   1       3   \n",
       "4                   1       1   \n",
       "5                   0       3   \n",
       "\n",
       "                                                          Name  Sex   Age  \\\n",
       "PassengerId                                                                 \n",
       "1                                      Braund, Mr. Owen Harris    1  22.0   \n",
       "2            Cumings, Mrs. John Bradley (Florence Briggs Th...    0  38.0   \n",
       "3                                       Heikkinen, Miss. Laina    0  26.0   \n",
       "4                 Futrelle, Mrs. Jacques Heath (Lily May Peel)    0  35.0   \n",
       "5                                     Allen, Mr. William Henry    1  35.0   \n",
       "\n",
       "             SibSp  Parch            Ticket     Fare Cabin  Embarked  \n",
       "PassengerId                                                           \n",
       "1                1      0         A/5 21171   7.2500     0         2  \n",
       "2                1      0          PC 17599  71.2833   C85         0  \n",
       "3                0      0  STON/O2. 3101282   7.9250     0         2  \n",
       "4                1      0            113803  53.1000  C123         2  \n",
       "5                0      0            373450   8.0500     0         2  "
      ]
     },
     "execution_count": 17,
     "metadata": {},
     "output_type": "execute_result"
    }
   ],
   "source": [
    "df_train = categories_to_numbers(df_train)\n",
    "df_test = categories_to_numbers(df_test)\n",
    "df_train.head()"
=======
   "execution_count": 134,
   "metadata": {},
   "outputs": [
    {
     "data": {
      "text/plain": [
       "<matplotlib.axes._subplots.AxesSubplot at 0x7fb46eebe550>"
      ]
     },
     "execution_count": 134,
     "metadata": {},
     "output_type": "execute_result"
    },
    {
     "data": {
      "image/png": "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\n",
      "text/plain": [
       "<Figure size 432x288 with 2 Axes>"
      ]
     },
     "metadata": {},
     "output_type": "display_data"
    }
   ],
   "source": [
    "sns.heatmap(df_train_corr,annot=True, cmap=\"Reds\")\n"
>>>>>>> naive_bayes_classifiers_B
   ]
  },
  {
   "cell_type": "markdown",
   "metadata": {
    "code_folding": []
   },
   "source": [
    "## Select features"
   ]
  },
  {
   "cell_type": "markdown",
   "metadata": {},
   "source": [
<<<<<<< HEAD
    "### Show Correlations"
=======
    "From the data inspection being made, I'll decide to use the 'TV' ads as a feature.    "
>>>>>>> naive_bayes_classifiers_B
   ]
  },
  {
   "cell_type": "code",
<<<<<<< HEAD
   "execution_count": 18,
   "metadata": {},
   "outputs": [],
   "source": [
    "# show correlations\n",
    "# df_train_corr = df_train.corr()\n",
    "# sns.heatmap(df_train_corr,annot=True, cmap=\"Reds\")"
   ]
  },
  {
   "cell_type": "markdown",
   "metadata": {},
   "source": [
    "### Drop columns we won't use"
   ]
  },
  {
   "cell_type": "code",
   "execution_count": 19,
   "metadata": {
    "code_folding": [
     2
    ]
   },
   "outputs": [],
   "source": [
    "useless_features = ['Name', 'Ticket','Cabin']\n",
    "\n",
    "def drop_columns(df, columns):\n",
    "    for col in columns:        \n",
    "        if col in df.columns:\n",
    "            df = df.drop(labels=col, axis=1)\n",
    "            \n",
    "    return df\n",
    "    \n",
    "df_train = drop_columns(df_train, useless_features)\n",
    "df_test = drop_columns(df_test, useless_features)"
=======
   "execution_count": 135,
   "metadata": {},
   "outputs": [
    {
     "ename": "NameError",
     "evalue": "name 'df' is not defined",
     "output_type": "error",
     "traceback": [
      "\u001b[0;31m---------------------------------------------------------------------------\u001b[0m",
      "\u001b[0;31mNameError\u001b[0m                                 Traceback (most recent call last)",
      "\u001b[0;32m<ipython-input-135-13d0db18d98b>\u001b[0m in \u001b[0;36m<module>\u001b[0;34m\u001b[0m\n\u001b[0;32m----> 1\u001b[0;31m \u001b[0mX\u001b[0m \u001b[0;34m=\u001b[0m \u001b[0mdf\u001b[0m\u001b[0;34m[\u001b[0m\u001b[0;34m[\u001b[0m\u001b[0;34m'TV'\u001b[0m\u001b[0;34m,\u001b[0m \u001b[0;34m'newspaper'\u001b[0m\u001b[0;34m,\u001b[0m \u001b[0;34m'radio'\u001b[0m\u001b[0;34m]\u001b[0m\u001b[0;34m]\u001b[0m\u001b[0;34m\u001b[0m\u001b[0m\n\u001b[0m\u001b[1;32m      2\u001b[0m \u001b[0my\u001b[0m \u001b[0;34m=\u001b[0m \u001b[0mdf\u001b[0m\u001b[0;34m[\u001b[0m\u001b[0;34m'sales'\u001b[0m\u001b[0;34m]\u001b[0m\u001b[0;34m\u001b[0m\u001b[0m\n\u001b[1;32m      3\u001b[0m \u001b[0mprint\u001b[0m\u001b[0;34m(\u001b[0m\u001b[0my\u001b[0m\u001b[0;34m.\u001b[0m\u001b[0mshape\u001b[0m\u001b[0;34m)\u001b[0m\u001b[0;34m\u001b[0m\u001b[0m\n",
      "\u001b[0;31mNameError\u001b[0m: name 'df' is not defined"
     ]
    }
   ],
   "source": [
    "X = df[['TV', 'newspaper', 'radio']]\n",
    "y = df['sales']\n",
    "print(y.shape)"
>>>>>>> naive_bayes_classifiers_B
   ]
  },
  {
   "cell_type": "markdown",
   "metadata": {},
   "source": [
    "## Separate the training data from the test data"
   ]
  },
  {
   "cell_type": "code",
<<<<<<< HEAD
   "execution_count": 40,
   "metadata": {},
   "outputs": [
    {
     "name": "stdout",
     "output_type": "stream",
     "text": [
      "X_train:              Pclass  Sex   Age  SibSp  Parch     Fare  Embarked\n",
      "PassengerId                                                    \n",
      "36                1    1  42.0      1      0  52.0000         2\n",
      "47                3    1  28.0      1      0  15.5000         1\n",
      "454               1    1  49.0      1      0  89.1042         0\n",
      "292               1    0  19.0      1      0  91.0792         0\n",
      "749               1    1  19.0      1      0  53.1000         2\n",
      " y_train: PassengerId\n",
      "36     0\n",
      "47     0\n",
      "454    1\n",
      "292    1\n",
      "749    0\n",
      "Name: Survived, dtype: int64\n",
      "\n",
      "X_test:              Pclass  Sex   Age  SibSp  Parch     Fare  Embarked\n",
      "PassengerId                                                    \n",
      "863               1    0  48.0      0      0  25.9292         2\n",
      "224               3    1  28.0      0      0   7.8958         2\n",
      "85                2    0  17.0      0      0  10.5000         2\n",
      "681               3    0  28.0      0      0   8.1375         1\n",
      "536               2    0   7.0      0      2  26.2500         2\n",
      " y_test: PassengerId\n",
      "863    1\n",
      "224    0\n",
      "85     1\n",
      "681    0\n",
      "536    1\n",
      "Name: Survived, dtype: int64\n",
      "\n"
     ]
    }
   ],
   "source": [
    "X_train, X_test, y_train, y_test = train_test_split(\n",
    "    df_train.drop('Survived',axis=1), \n",
    "    df_train['Survived'], \n",
    "    random_state=1)\n",
    "\n",
=======
   "execution_count": null,
   "metadata": {},
   "outputs": [],
   "source": [
    "X_train, X_test, y_train, y_test = train_test_split(X, y, random_state=42)\n",
>>>>>>> naive_bayes_classifiers_B
    "print(f'X_train: {X_train[:5]}\\n', f'y_train: {y_train[:5]}\\n')\n",
    "print(f'X_test: {X_test[:5]}\\n', f'y_test: {y_test[:5]}\\n')"
   ]
  },
  {
<<<<<<< HEAD
   "cell_type": "code",
   "execution_count": 27,
   "metadata": {},
   "outputs": [],
   "source": []
  },
  {
=======
>>>>>>> naive_bayes_classifiers_B
   "cell_type": "markdown",
   "metadata": {},
   "source": [
    "## Choose the model\n",
    "\n",
<<<<<<< HEAD
    "The problem is a categorization one, and we are going to try first with LogisticRegression."
=======
    "We saw some linear correlation between 'TV' ads and sales, that's why we are going to start with LinearRegression."
>>>>>>> naive_bayes_classifiers_B
   ]
  },
  {
   "cell_type": "code",
<<<<<<< HEAD
   "execution_count": 41,
   "metadata": {},
   "outputs": [],
   "source": [
    "from sklearn.linear_model import LogisticRegression"
=======
   "execution_count": null,
   "metadata": {},
   "outputs": [],
   "source": [
    "from sklearn.linear_model import LinearRegression"
>>>>>>> naive_bayes_classifiers_B
   ]
  },
  {
   "cell_type": "markdown",
   "metadata": {},
   "source": [
    "## Train the model (fit the model)"
   ]
  },
  {
   "cell_type": "code",
<<<<<<< HEAD
   "execution_count": 51,
   "metadata": {},
   "outputs": [],
   "source": [
    "# instantiate and fit the model\n",
    "model = LogisticRegression()\n",
    "fitted = model.fit(X_train,y_train)"
   ]
  },
  {
   "cell_type": "markdown",
   "metadata": {},
   "source": [
    "### Make predictions"
=======
   "execution_count": null,
   "metadata": {},
   "outputs": [],
   "source": [
    "# instantiate the model\n",
    "model = LinearRegression()"
   ]
  },
  {
   "cell_type": "code",
   "execution_count": null,
   "metadata": {},
   "outputs": [],
   "source": [
    "fitted = model.fit(X_train,y_train)"
>>>>>>> naive_bayes_classifiers_B
   ]
  },
  {
   "cell_type": "code",
<<<<<<< HEAD
   "execution_count": 43,
   "metadata": {},
   "outputs": [],
   "source": [
    "predictions = model.predict(X_test)"
   ]
  },
  {
   "cell_type": "code",
   "execution_count": 44,
   "metadata": {},
   "outputs": [
    {
     "name": "stdout",
     "output_type": "stream",
     "text": [
      "[3.89945813]\n",
      "[[-0.82098181 -2.39627363 -0.02970952 -0.34282649  0.04727422  0.00379084\n",
      "  -0.1644842 ]]\n"
     ]
    }
   ],
   "source": [
    "# let's check the \"learned\" co-efficients:\n",
    "print(fitted.intercept_)\n",
    "print(fitted.coef_)"
=======
   "execution_count": null,
   "metadata": {},
   "outputs": [],
   "source": [
    "# let's check the \"learned\" co-efficients:\n",
    "print(fitted.intercept_)\n",
    "print(fitted.coef_)"
   ]
  },
  {
   "cell_type": "markdown",
   "metadata": {},
   "source": [
    "### Interpret the coefficients"
>>>>>>> naive_bayes_classifiers_B
   ]
  },
  {
   "cell_type": "markdown",
   "metadata": {},
   "source": [
    "## Predict (classify unknown input sample)"
   ]
  },
  {
   "cell_type": "code",
<<<<<<< HEAD
   "execution_count": 45,
=======
   "execution_count": null,
>>>>>>> naive_bayes_classifiers_B
   "metadata": {},
   "outputs": [],
   "source": [
    "y_pred = fitted.predict(X_test)"
   ]
  },
  {
   "cell_type": "markdown",
   "metadata": {},
   "source": [
    "## Evaluate the model"
   ]
  },
  {
   "cell_type": "code",
<<<<<<< HEAD
   "execution_count": 49,
   "metadata": {},
   "outputs": [],
   "source": [
    "from sklearn.metrics import classification_report"
   ]
  },
  {
   "cell_type": "code",
   "execution_count": 50,
   "metadata": {},
   "outputs": [
    {
     "name": "stdout",
     "output_type": "stream",
     "text": [
      "              precision    recall  f1-score   support\n",
      "\n",
      "           0       0.79      0.90      0.84       128\n",
      "           1       0.83      0.67      0.74        95\n",
      "\n",
      "   micro avg       0.80      0.80      0.80       223\n",
      "   macro avg       0.81      0.79      0.79       223\n",
      "weighted avg       0.81      0.80      0.80       223\n",
      "\n"
     ]
    }
   ],
   "source": [
    "print(classification_report(y_test,predictions))"
=======
   "execution_count": null,
   "metadata": {},
   "outputs": [],
   "source": [
    "from sklearn import metrics"
>>>>>>> naive_bayes_classifiers_B
   ]
  },
  {
   "cell_type": "code",
<<<<<<< HEAD
   "execution_count": 52,
   "metadata": {},
   "outputs": [
    {
     "name": "stdout",
     "output_type": "stream",
     "text": [
      "0.44419524653057546\n",
      "0.8026905829596412\n"
     ]
    }
   ],
   "source": [
    "from sklearn import metrics\n",
    "\n",
    "print(np.sqrt(metrics.mean_squared_error(y_test, y_pred)))\n",
    "print(metrics.accuracy_score(y_test, y_pred))"
   ]
  },
  {
   "cell_type": "code",
   "execution_count": null,
   "metadata": {},
   "outputs": [],
   "source": []
=======
   "execution_count": null,
   "metadata": {},
   "outputs": [],
   "source": [
    "# get metrics:\n",
    "mae = metrics.mean_absolute_error(y_test, y_pred)\n",
    "mse = metrics.mean_squared_error(y_test, y_pred)\n",
    "rmse = np.sqrt(metrics.mean_squared_error(y_test, y_pred))\n",
    "r2 = metrics.r2_score(y_test, y_pred)\n",
    "\n",
    "# print it\n",
    "print('{:10s}: {}'.format('MAE: ', mae ) )\n",
    "print('{:10s}: {}'.format('MSE: ', mse ) )\n",
    "print('{:10s}: {}'.format('RMSE: ', rmse) )\n",
    "print('{:10s}: {}'.format('r2_score', r2) )"
   ]
>>>>>>> naive_bayes_classifiers_B
  }
 ],
 "metadata": {
  "jupytext": {},
  "kernelspec": {
   "display_name": "Python 3",
   "language": "python",
   "name": "python3"
  },
  "language_info": {
   "codemirror_mode": {
    "name": "ipython",
    "version": 3
   },
   "file_extension": ".py",
   "mimetype": "text/x-python",
   "name": "python",
   "nbconvert_exporter": "python",
   "pygments_lexer": "ipython3",
   "version": "3.7.0"
  },
  "toc": {
   "base_numbering": 1,
   "nav_menu": {},
   "number_sections": true,
   "sideBar": true,
   "skip_h1_title": true,
   "title_cell": "Table of Contents",
   "title_sidebar": "Content",
   "toc_cell": false,
   "toc_position": {
    "height": "calc(100% - 180px)",
    "left": "10px",
    "top": "150px",
    "width": "165px"
   },
   "toc_section_display": true,
   "toc_window_display": true
  }
 },
 "nbformat": 4,
 "nbformat_minor": 2
}
