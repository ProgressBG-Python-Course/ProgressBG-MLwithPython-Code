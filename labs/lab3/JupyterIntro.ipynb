{
 "cells": [
  {
   "cell_type": "code",
   "execution_count": 1,
   "metadata": {},
   "outputs": [
    {
     "ename": "SyntaxError",
     "evalue": "invalid syntax (<ipython-input-1-1b629ee278f0>, line 1)",
     "output_type": "error",
     "traceback": [
      "\u001b[0;36m  File \u001b[0;32m\"<ipython-input-1-1b629ee278f0>\"\u001b[0;36m, line \u001b[0;32m1\u001b[0m\n\u001b[0;31m    Jupyter Notebook Introduction\u001b[0m\n\u001b[0m                   ^\u001b[0m\n\u001b[0;31mSyntaxError\u001b[0m\u001b[0;31m:\u001b[0m invalid syntax\n"
     ]
    }
   ],
   "source": [
    "Jupyter Notebook Introduction\n",
    "A Notebook Document\n",
    "A Notebook is a sequence of cells. There are three types of cells:\n",
    "\n",
    "Code cells: The Input and Output of live code that is run in the kernel\n",
    "Markdown cells: Text formated as a Markdown.\n",
    "Raw cells: Unformatted text\n",
    "// This cell itself is an example of Markdown\n",
    "\n",
    "Markdown cell\n",
    "Markdown cells are great way to provide documentation to the computations you're presenting.\n",
    "\n",
    "You can read more about the markdown syntax: https://www.markdownguide.org/basic-syntax/\n",
    "\n",
    "You can add HTML elements to any Markdown file. For example, next code:\n",
    "\n",
    "<span style=\"color:\">some styled text</span>\n",
    "results in: some styled text\n",
    "\n",
    "Cell Magics:\n",
    "Reference: https://ipython.readthedocs.io/en/stable/interactive/magics.html\n",
    "\n",
    "For instance, with %%HTML cell magic, you can insert a YouTube video in your notebook as an iframe in separate cell:\n",
    "\n",
    "In [4]:\n",
    "%%HTML\n",
    "<iframe height=\"280\" src=\"https://www.youtube.com/embed/HW29067qVWk\" frameborder=\"0\" allow=\"accelerometer; autoplay; encrypted-media; gyroscope; picture-in-picture\" allowfullscreen></iframe>\n",
    "Or execute bash commands, with %%bash magic:\n",
    "\n",
    "In [24]:\n",
    "%%bash\n",
    "\n",
    "printf \"The date is: `date` \\n\\n\"\n",
    "\n",
    "printf \"And your fortune is:\\n `fortune`\"\n",
    "The date is: Sat Oct 26 01:17:21 EEST 2019 \n",
    "\n",
    "And your fortune is:\n",
    " Time to be aggressive.  Go after a tattooed Virgo.\n",
    "Visualisations\n",
    "In [40]:\n",
    "import numpy as np\n",
    "import matplotlib.pyplot as plt\n",
    "In [41]:\n",
    "X = np.arange(1,10)\n",
    "Y = X**2\n",
    "plt.scatter(X, Y)\n",
    "Out[41]:\n",
    "<matplotlib.collections.PathCollection at 0x7f844c0c7550>\n"
   ]
  },
  {
   "cell_type": "code",
   "execution_count": null,
   "metadata": {},
   "outputs": [],
   "source": []
  }
 ],
 "metadata": {
  "kernelspec": {
   "display_name": "Python 3",
   "language": "python",
   "name": "python3"
  },
  "language_info": {
   "codemirror_mode": {
    "name": "ipython",
    "version": 3
   },
   "file_extension": ".py",
   "mimetype": "text/x-python",
   "name": "python",
   "nbconvert_exporter": "python",
   "pygments_lexer": "ipython3",
   "version": "3.7.4"
  }
 },
 "nbformat": 4,
 "nbformat_minor": 4
}
