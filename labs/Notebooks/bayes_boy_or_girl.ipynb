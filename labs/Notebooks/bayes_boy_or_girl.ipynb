{
 "cells": [
  {
   "cell_type": "markdown",
   "metadata": {},
   "source": [
    "# \"a boy or a girl?\n",
    "\n",
    "Solution of example: http://127.0.0.1:3333/ProgressBG-MLwithPython-Slides/pages/themes/naive_bayes_classifiers/naive_bayes_classifiers.html#/10/3"
   ]
  },
  {
   "cell_type": "markdown",
   "metadata": {},
   "source": [
    "### Formalize the task:\n",
    "P(G) - student to be a girl\n",
    "P(T) - student waer a throuser\n",
    "\n",
    "Question: given that a student wears a throuser, what is the probability to be a girl?\n",
    "P(G|T) = ?   "
   ]
  },
  {
   "cell_type": "code",
   "execution_count": null,
   "metadata": {},
   "outputs": [],
   "source": []
  }
 ],
 "metadata": {
  "kernelspec": {
   "display_name": "Python 3",
   "language": "python",
   "name": "python3"
  },
  "language_info": {
   "codemirror_mode": {
    "name": "ipython",
    "version": 3
   },
   "file_extension": ".py",
   "mimetype": "text/x-python",
   "name": "python",
   "nbconvert_exporter": "python",
   "pygments_lexer": "ipython3",
   "version": "3.7.4"
  }
 },
 "nbformat": 4,
 "nbformat_minor": 4
}
