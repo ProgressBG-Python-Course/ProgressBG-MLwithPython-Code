{
 "cells": [
  {
   "cell_type": "code",
   "execution_count": 8,
   "metadata": {},
   "outputs": [],
   "source": [
    "import matplotlib as mpl\n",
    "import pandas as pd"
   ]
  },
  {
   "cell_type": "markdown",
   "metadata": {},
   "source": [
    "<span style=\"color:red\">text</span>\n"
   ]
  },
  {
   "cell_type": "code",
   "execution_count": 15,
   "metadata": {},
   "outputs": [
    {
     "data": {
      "text/html": [
       "<iframe width=\"896\" height=\"504\" src=\"https://www.youtube.com/embed/T3TpdPmTLso\" frameborder=\"0\" allow=\"accelerometer; autoplay; encrypted-media; gyroscope; picture-in-picture\" allowfullscreen></iframe>\n"
      ],
      "text/plain": [
       "<IPython.core.display.HTML object>"
      ]
     },
     "metadata": {},
     "output_type": "display_data"
    }
   ],
   "source": [
    "%%HTML\n",
    "<iframe width=\"896\" height=\"504\" src=\"https://www.youtube.com/embed/T3TpdPmTLso\" frameborder=\"0\" allow=\"accelerometer; autoplay; encrypted-media; gyroscope; picture-in-picture\" allowfullscreen></iframe>"
   ]
  },
  {
   "cell_type": "code",
   "execution_count": 17,
   "metadata": {},
   "outputs": [
    {
     "name": "stdout",
     "output_type": "stream",
     "text": [
      "Sat Nov  9 16:43:40 EET 2019\n"
     ]
    }
   ],
   "source": [
    "%%bash\n",
    "date"
   ]
  },
  {
   "cell_type": "code",
   "execution_count": 18,
   "metadata": {},
   "outputs": [
    {
     "name": "stdout",
     "output_type": "stream",
     "text": [
      "['__name__', '__doc__', '__package__', '__loader__', '__spec__', '__path__', '__file__', '__cached__', '__builtins__', 'sys', 'atexit', 'namedtuple', 'MutableMapping', 'contextlib', 'LooseVersion', 'functools', 'importlib', 'inspect', 'Parameter', 'locale', 'logging', 'os', 'Path', 'pprint', 're', 'shutil', 'subprocess', 'tempfile', 'cbook', 'fontconfig_pattern', '_color_data', 'colors', 'rcsetup', 'MatplotlibDeprecationWarning', 'dedent', 'get_label', 'sanitize_sequence', 'mplDeprecation', 'defaultParams', 'validate_backend', 'cycler', 'numpy', '_version', '__version__', '_log', '__bibtex__', 'compare_versions', '_check_versions', 'ft2font', '_ensure_handler', 'set_loglevel', '_logged_cached', '_ExecInfo', '_get_executable_info', 'checkdep_dvipng', 'checkdep_ghostscript', 'checkdep_pdftops', 'checkdep_inkscape', 'checkdep_ps_distiller', 'checkdep_usetex', 'get_home', '_create_tmp_config_or_cache_dir', '_get_xdg_config_dir', '_get_xdg_cache_dir', '_get_config_or_cache_dir', 'get_configdir', 'get_cachedir', '_get_data_path', 'get_data_path', 'get_py2exe_datafiles', 'matplotlib_fname', '_deprecated_map', '_deprecated_ignore_map', '_deprecated_remain_as_none', '_all_deprecated', 'RcParams', 'rc_params', 'URL_REGEX', 'is_url', '_open_file_or_url', '_error_details_fmt', '_rc_params_in_file', 'rc_params_from_file', 'rcParams', 'rcParamsOrig', 'rcParamsDefault', 'rc', 'rcdefaults', 'rc_file_defaults', 'rc_file', 'rc_context', 'use', 'get_backend', 'interactive', 'is_interactive', 'tk_window_focus', 'default_test_modules', '_init_tests', 'test', '_replacer', '_label_from_arg', '_DATA_DOC_TITLE', '_DATA_DOC_APPENDIX', '_add_data_doc', '_preprocess_data', 'docstring', '_path', 'path', 'transforms', 'artist', 'units', 'ticker', 'dates', '_cm', '_cm_listed', 'cm', 'markers', 'lines', 'bezier', 'patches', '_mathtext_data', 'afm', 'font_manager', 'dviread', 'mathtext', 'textpath', 'text', 'table']\n"
     ]
    }
   ],
   "source": [
    "print(mpl.__dir__())"
   ]
  },
  {
   "cell_type": "code",
   "execution_count": null,
   "metadata": {},
   "outputs": [],
   "source": []
  }
 ],
 "metadata": {
  "kernelspec": {
   "display_name": "Python 3",
   "language": "python",
   "name": "python3"
  },
  "language_info": {
   "codemirror_mode": {
    "name": "ipython",
    "version": 3
   },
   "file_extension": ".py",
   "mimetype": "text/x-python",
   "name": "python",
   "nbconvert_exporter": "python",
   "pygments_lexer": "ipython3",
   "version": "3.7.4"
  }
 },
 "nbformat": 4,
 "nbformat_minor": 4
}
